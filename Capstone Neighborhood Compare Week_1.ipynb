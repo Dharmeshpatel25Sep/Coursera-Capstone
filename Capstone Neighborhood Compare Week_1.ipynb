{
 "cells": [
  {
   "cell_type": "markdown",
   "metadata": {},
   "source": [
    "# Capstone Project - The Battle of Neighborhoods\n",
    "#### Applied Data Science Capstone by IBM/Coursera"
   ]
  },
  {
   "cell_type": "markdown",
   "metadata": {},
   "source": [
    "## Table of contents\n",
    "* [Introduction: Business Problem](#introduction)\n",
    "* [Data](#data)\n",
    "\n",
    "<!-- * [Methodology](#methodology)\n",
    "* [Analysis](#analysis)\n",
    "* [Results and Discussion](#results)\n",
    "* [Conclusion](#conclusion) -->"
   ]
  },
  {
   "cell_type": "markdown",
   "metadata": {},
   "source": [
    "## Introduction: Business Problem <a name=\"introduction\"></a>"
   ]
  },
  {
   "cell_type": "markdown",
   "metadata": {},
   "source": [
    "__Is New York City more like Toronto?__\n",
    "\n",
    "Specifically, this project will be targeted to people/business new to the city and interested in finding out the neighborhoods with specific venue or venues, and compare it with the other neighborhoods. It will also help analyse the businesses within city.\n",
    "\n",
    "Primary objective of this project is to set up the process to compare Neighborhood across geographical location, and provide results that help us to analyze the selected Cities and its Neighborhoods compare to each other in terms of the likelihood of their neighborhoods and kind of venues they have. i.e. one can compare the cities in terms of the number of restaurants serving their favourite cuisine (# venues with in City), or neighborhoods which has venues of their choice (categories of venues with in neighborhood).\n",
    "\n",
    "We will use our data science powers to clean,analyse and classify the data, and then prepare final report with few graphs and folium maps."
   ]
  },
  {
   "cell_type": "markdown",
   "metadata": {},
   "source": [
    "## Data <a name=\"data\"></a>"
   ]
  },
  {
   "cell_type": "markdown",
   "metadata": {},
   "source": [
    "We will consider all neighborhoods of Toronto, Canada and New York city of America for this project, to compare neighborhoods across both the cities and to analyze neighborhoods having similar kind of venues within same or different city. \n",
    "\n",
    "We will be using Foursquare API to find out top 10 venues for each neighborhood.  To explore and find out a nearby venues using foursquare, We will need geographical location (Address, Longitude, Latitude) data for each neighborhood, For this project we will use the data I have already compiled earlier while working on previous capstone project and lab assignments. \n",
    "\n",
    "We will then explore, segment and cluster neighborhoods based on characteristics of top 10 venues surrounding (i.e. within 500 meter radius) of neighborhood's geographical location."
   ]
  },
  {
   "cell_type": "markdown",
   "metadata": {},
   "source": [
    "\n",
    "----------------------------------------------- End of week 1 assignment -----------------------------------------------\n",
    "<hr style=\"height:1px;border-width:0;color:white;background-color:brown\">"
   ]
  },
  {
   "cell_type": "markdown",
   "metadata": {},
   "source": [
    "## Week2"
   ]
  },
  {
   "cell_type": "markdown",
   "metadata": {},
   "source": [
    "*Methodology* - Week 2 Assignment in progress...\n",
    "<!-- ## Methodology\n",
    "In last Module, we explored New York City and the city of Toronto and segmented and clustered their neighborhoods. Both cities are very diverse and are the financial capitals of their respective countries. I liked an idea suggested for the project is to compare neighborhoods across cities and determine how similar or dissimilar they are. Is New York City more like Toronto?. \n",
    "We will be working on same idea with following Project objectives: \n",
    "* Set up the process to compare Cities, Neighborhood and Venues surrounding geographical location\n",
    "* Collect the essential data for project and use Data Science skills for data cleansing and standardization.\n",
    "  * We will be using __Foursquare API__ to explore a neighborhood and find out a nearby venues.\n",
    "  * we will need geographical location (Address, Longitude, Latitude) for each neighborhood, for this project we will be using the data we have already compiled earlier while working on previous capstone project and lab assignments.*\n",
    "* Analyze how the selected Cities and its Neighborhoods compare to each other in terms of the likelihood of neighborhoods and kind of venues(categories) they have.\n",
    "* To start with analysis we will follow the usecase similar to the below given example:\n",
    "  * Compare the city in terms of the number of restaurants serving your favourite cuisine (# venues with in City)\n",
    "  * Compare neighborhoods which has venues of your choice (kind of venues with in neighborhood)\n",
    "  * Cluster neighborhoods based on their top 10 venues, regardless of their cities to recommend similar neighboorhoods within and across city \n",
    "__Data:__ we will take all of the neighborhoods from Toronto,Canada and New York City, USA to \n",
    "then we will segment and cluster them based on characteristics of their top 10 venues. in order to find out top 10 venues for each neighborhood we will be using Foursquare API.*\n",
    "__Notes__ *in order to explore a neighborhood and find out a nearby venues using foursquare, we will need geographical location (Address, Longitude, Latitude) for each neighborhood, for this project we will be using the data we have already compiled earlier while working on previous capstone project and lab assignments.*\n",
    "-->"
   ]
  },
  {
   "cell_type": "markdown",
   "metadata": {},
   "source": [
    "<li Style='font-size:110%;color:brown'> Let us start with importing few essential libraries!! </li>"
   ]
  },
  {
   "cell_type": "code",
   "execution_count": null,
   "metadata": {},
   "outputs": [],
   "source": [
    "## Import required libraries\n",
    "import pandas as pd # library for data analsysis\n",
    "pd.set_option('display.max_columns', None)\n",
    "pd.set_option('display.max_rows', None)\n",
    "import numpy as np # library to handle data in a vectorized manner\n",
    "print(\"Libraries Imported!\")"
   ]
  },
  {
   "cell_type": "markdown",
   "metadata": {},
   "source": [
    "<li Style='font-size:110%;color:brown'> Let download the Neighborhoods data from ... </li>"
   ]
  },
  {
   "cell_type": "code",
   "execution_count": null,
   "metadata": {},
   "outputs": [],
   "source": [
    "## Let's download the data and save it as a CSV\n",
    "#!wget -q -O 'Toronto_df.csv' ## http://Tbd\n",
    "#!wget -q -O 'Newyork_df.csv' ## http://Tbd"
   ]
  },
  {
   "cell_type": "code",
   "execution_count": null,
   "metadata": {},
   "outputs": [],
   "source": [
    "## Now that the data for both city is downloaded, let's read it into a pandas dataframe.\n",
    "Toronto_df = pd.read_csv(\"Toronto_df.csv\")\n",
    "Newyork_df = pd.read_csv(\"Newyork_df.csv\")\n",
    "\n",
    "## Clean dataframe\n",
    "Toronto_df = Toronto_df.drop('PostalCode',axis=1)\n",
    "Toronto_df.insert(0,'City','Toronto')\n",
    "Newyork_df.insert(0,'City','New York')\n",
    "\n",
    "## Print \n",
    "print(\"Toronto_df:\\n\",Toronto_df.head(3),\"\\n\\nNewyork_df:\\n\",Newyork_df.head(3))\n"
   ]
  },
  {
   "cell_type": "markdown",
   "metadata": {},
   "source": [
    "<li Style='font-size:110%;color:brown'> Let's take a detailed view of Toronto and New York data </li>"
   ]
  },
  {
   "cell_type": "code",
   "execution_count": null,
   "metadata": {},
   "outputs": [],
   "source": [
    "## Set df as city dtaframe to view details\n",
    "\n",
    "df = Toronto_df.copy() ## provide the name of dataframe\n",
    "city = 'Toronto'       ## provide the name of City\n",
    "\n",
    "## print the number of Boroughs and Neighborhoods within City. \n",
    "print('\\nThe', city, 'city has {} boroughs and {} neighborhoods.'.format(len(df['Borough'].unique())\n",
    "                                                                        ,df.shape[0]))\n",
    "## Print the details\n",
    "print('\\n # of Neighborhoods in each Borough:\\n')\n",
    "print(df[['Borough','Neighborhood']].groupby(\n",
    "    'Borough',as_index=False).count().sort_values(by='Neighborhood',ascending=False),'\\n')\n",
    "\n",
    "## Print dataframe\n",
    "df.head()"
   ]
  },
  {
   "cell_type": "markdown",
   "metadata": {},
   "source": [
    "<li Style='font-size:110%;color:brown'> Let's append data of Toronto and New York,in order to fetch venue details for each neighborhood once </li>"
   ]
  },
  {
   "cell_type": "code",
   "execution_count": null,
   "metadata": {},
   "outputs": [],
   "source": [
    "## Checking the Columns before appending tabels to append data properly  \n",
    "#Toronto_df.columns, Newyork_df.columns\n",
    "\n",
    "## Appending tabels\n",
    "Nghbr_df = pd.concat([Newyork_df, Toronto_df], ignore_index=False).reset_index(drop=True)\n",
    "\n",
    "## print the number of Boroughs and Neighborhoods within City. \n",
    "print('\\nThe data includes {} cities {} boroughs and {} neighborhoods.'.format(len(Nghbr_df['City'].unique()),\n",
    "                                                                               len(Nghbr_df['Borough'].unique()),\n",
    "                                                                               Nghbr_df.shape[0]))\n",
    "## Print the details\n",
    "print('\\n # of Neighborhoods in each Borough:\\n')\n",
    "print(Nghbr_df[['City','Borough','Neighborhood']].groupby(\n",
    "    ['City','Borough'],as_index=False).count().sort_values(by='Neighborhood',ascending=False),'\\n')\n",
    "\n",
    "## Print dataframe\n",
    "Nghbr_df.head()"
   ]
  },
  {
   "cell_type": "markdown",
   "metadata": {},
   "source": [
    "<li Style='font-size:110%;color:brown'> \n",
    "    Next, we are going to start utilizing the Foursquare API to explore the neighborhoods and segment them.</li>"
   ]
  },
  {
   "cell_type": "markdown",
   "metadata": {},
   "source": [
    "Make sure that you have created a Foursquare developer account and have your credentials handy"
   ]
  },
  {
   "cell_type": "markdown",
   "metadata": {},
   "source": [
    "Before we start exploring it, let's get all the libraries that we will need. </li>"
   ]
  },
  {
   "cell_type": "code",
   "execution_count": null,
   "metadata": {},
   "outputs": [],
   "source": [
    "# Imrorting Libraries  \n",
    "import json # library to handle JSON files\n",
    "\n",
    "!conda install -c conda-forge geopy --yes # uncomment this line if you haven't completed the Foursquare API lab\n",
    "from geopy.geocoders import Nominatim # convert an address into latitude and longitude values\n",
    "\n",
    "import requests # library to handle requests\n",
    "from pandas.io.json import json_normalize # tranform JSON file into a pandas dataframe\n",
    "\n",
    "# Matplotlib and associated plotting modules\n",
    "import matplotlib.cm as cm\n",
    "import matplotlib.colors as colors\n",
    "\n",
    "# import k-means from clustering stage\n",
    "from sklearn.cluster import KMeans\n",
    "\n",
    "!conda install -c conda-forge folium=0.5.0 --yes # uncomment this line if you haven't completed the Foursquare API lab\n",
    "import folium # map rendering library\n",
    "\n",
    "print('Libraries imported.')"
   ]
  },
  {
   "cell_type": "markdown",
   "metadata": {},
   "source": [
    "<li Style='font-size:110%;color:brown'>\n",
    "    Now, Define credentials and version (date)  for Foursquare </li>"
   ]
  },
  {
   "cell_type": "code",
   "execution_count": null,
   "metadata": {},
   "outputs": [],
   "source": [
    "# @hidden_cell\n",
    "CLIENT_ID = '0XUWQYJ51LOM4MNDEUUOJ1XPHCV13TQ4PIUE4SW1MADEN2U2' # your Foursquare ID\n",
    "CLIENT_SECRET = 'F5ZG3S4U0DVS2D0OI1YDYWYM54FBO4X4VXSAXALU2I4KSS0M' # your Foursquare Secret"
   ]
  },
  {
   "cell_type": "code",
   "execution_count": null,
   "metadata": {
    "button": false,
    "collapsed": false,
    "jupyter": {
     "outputs_hidden": false
    },
    "new_sheet": false,
    "run_control": {
     "read_only": false
    }
   },
   "outputs": [],
   "source": [
    "#CLIENT_ID = 'XXXXXXX' # your Foursquare ID\n",
    "#CLIENT_SECRET = 'XXXXXXX' # your Foursquare Secret\n",
    "#VERSION = '20180604'\n",
    "#print('Your credentails:'); print('CLIENT_ID: ' + CLIENT_ID); print('CLIENT_SECRET:' + CLIENT_SECRET)"
   ]
  },
  {
   "cell_type": "markdown",
   "metadata": {},
   "source": [
    "<li Style='font-size:110%;color:brown'> Let's see how to fetch venues for any neighborhood using Foursquare API  </li>"
   ]
  },
  {
   "cell_type": "markdown",
   "metadata": {},
   "source": [
    "Let's pick one neighborhood from our dataframe.\n",
    "Get the neighborhood's name."
   ]
  },
  {
   "cell_type": "code",
   "execution_count": null,
   "metadata": {
    "collapsed": false,
    "jupyter": {
     "outputs_hidden": false
    }
   },
   "outputs": [],
   "source": [
    "neighborhood_city = Nghbr_df.loc[0, 'City'] # neighborhood name\n",
    "neighborhood_name = Nghbr_df.loc[0, 'Neighborhood'] # neighborhood name\n",
    "neighborhood_latitude = Nghbr_df.loc[0, 'Latitude'] # neighborhood latitude value\n",
    "neighborhood_longitude = Nghbr_df.loc[0, 'Longitude'] # neighborhood longitude value\n",
    "\n",
    "print('\\n Neighborhood is {}, {}., and Lat, Long values are {}, {}.'.format(\n",
    "    neighborhood_name, neighborhood_city, round(neighborhood_latitude,6), round(neighborhood_longitude,6)))"
   ]
  },
  {
   "cell_type": "markdown",
   "metadata": {},
   "source": [
    "Now, let's get the top 100 venues that are within a radius of 500 meters of selected neighborhood. \n",
    "\n",
    "First, let's create the GET request URL."
   ]
  },
  {
   "cell_type": "code",
   "execution_count": null,
   "metadata": {
    "collapsed": false,
    "jupyter": {
     "outputs_hidden": false
    }
   },
   "outputs": [],
   "source": [
    "## Define LIMIT query and radius \n",
    "radius = 500; LIMIT = 100\n",
    "\n",
    "## Define the corresponding URL\n",
    "url = 'https://api.foursquare.com/v2/venues/explore?client_id={}&client_secret={}&ll={},{}&v={}&radius={}&limit={}'.format(\n",
    "    CLIENT_ID, CLIENT_SECRET, neighborhood_latitude, neighborhood_longitude, VERSION, radius, LIMIT)\n",
    "#url"
   ]
  },
  {
   "cell_type": "markdown",
   "metadata": {},
   "source": [
    "Send the GET request and examine the resutls"
   ]
  },
  {
   "cell_type": "code",
   "execution_count": null,
   "metadata": {
    "collapsed": false,
    "jupyter": {
     "outputs_hidden": false
    },
    "scrolled": true
   },
   "outputs": [],
   "source": [
    "results = requests.get(url).json()\n",
    "#results.keys()\n",
    "#results['response'].keys()\n",
    "#results['response']['groups'][0].keys()\n",
    "results['response']['groups'][0]['items']"
   ]
  },
  {
   "cell_type": "markdown",
   "metadata": {},
   "source": [
    "Now, as we know that all the information is in the *items* key.    \n",
    "Before we proceed, let's define the function to extract category of venues from items result. **get_category_type**"
   ]
  },
  {
   "cell_type": "code",
   "execution_count": null,
   "metadata": {},
   "outputs": [],
   "source": [
    "# function that extracts the category of the venue\n",
    "def get_category_type(row):\n",
    "    try:\n",
    "        categories_list = row['categories']\n",
    "    except:\n",
    "        categories_list = row['venue.categories']\n",
    "        \n",
    "    if len(categories_list) == 0:\n",
    "        return None\n",
    "    else:\n",
    "        return categories_list[0]['name']"
   ]
  },
  {
   "cell_type": "markdown",
   "metadata": {},
   "source": [
    "<li Style='font-size:110%;color:brown'>\n",
    "    Lets clean the json output provided by Foursquare and structure it into a *pandas* dataframe.</li>"
   ]
  },
  {
   "cell_type": "code",
   "execution_count": null,
   "metadata": {
    "collapsed": false,
    "jupyter": {
     "outputs_hidden": false
    }
   },
   "outputs": [],
   "source": [
    "## Get Venues detail\n",
    "venues = results['response']['groups'][0]['items']  \n",
    "nearby_venues = pd.json_normalize(venues) # flatten JSON\n",
    "\n",
    "# filter columns\n",
    "filtered_columns = ['venue.name', 'venue.categories', 'venue.location.lat', 'venue.location.lng']\n",
    "nearby_venues =nearby_venues.loc[:, filtered_columns]\n",
    "\n",
    "# filter the category for each row\n",
    "nearby_venues['venue.categories'] = nearby_venues.apply(get_category_type, axis=1)\n",
    "\n",
    "# clean columns\n",
    "nearby_venues.columns = [col.split(\".\")[-1] for col in nearby_venues.columns]\n",
    "\n",
    "# View Near by Venue \n",
    "print('\\n Nearby_venues dataframe for venues of {}, {}:\\n'.format(neighborhood_name, neighborhood_city))\n",
    "nearby_venues"
   ]
  },
  {
   "cell_type": "markdown",
   "metadata": {},
   "source": [
    "<li Style='font-size:110%;color:brown'> \n",
    "    Let's create a function to process all the neighborhoods in our dataset </li>"
   ]
  },
  {
   "cell_type": "code",
   "execution_count": null,
   "metadata": {},
   "outputs": [],
   "source": [
    "def getNearbyVenues(city, names, latitudes, longitudes, radius=500):\n",
    "    \n",
    "    venues_list=[]\n",
    "    for city, name, lat, lng in zip(city, names, latitudes, longitudes):\n",
    "        #print(name)            \n",
    "        # create the API request URL\n",
    "        url = 'https://api.foursquare.com/v2/venues/explore?&client_id={}&client_secret={}&v={}&ll={},{}&radius={}&limit={}'.format(\n",
    "            CLIENT_ID, CLIENT_SECRET, VERSION, lat, lng, radius, LIMIT)\n",
    "            \n",
    "        # make the GET request\n",
    "        results = requests.get(url).json()[\"response\"]['groups'][0]['items']\n",
    "        \n",
    "        # return only relevant information for each nearby venue\n",
    "        venues_list.append([\n",
    "            (city, name, lat, lng, v['venue']['name'], v['venue']['location']['lat'],\n",
    "              v['venue']['location']['lng'], v['venue']['categories'][0]['name']) \n",
    "            for v in results])\n",
    "    \n",
    "    nearby_venues = pd.DataFrame([item for venue_list in venues_list for item in venue_list])\n",
    "    nearby_venues.columns = ['City','Neighborhood', 'Neighborhood Latitude', 'Neighborhood Longitude',\n",
    "                             'Venue', 'Venue Latitude', 'Venue Longitude', 'Venue Category']\n",
    "    print('New dataframe for nearby venues is created.')\n",
    "    return(nearby_venues)"
   ]
  },
  {
   "cell_type": "markdown",
   "metadata": {},
   "source": [
    "<li Style='font-size:110%;color:brown'> \n",
    "    Now,Let's use the above function on each neighborhood and create a new dataframe called <b>Venues_df</b>.</li>"
   ]
  },
  {
   "cell_type": "code",
   "execution_count": null,
   "metadata": {
    "collapsed": false,
    "jupyter": {
     "outputs_hidden": false
    }
   },
   "outputs": [],
   "source": [
    "## Create new Dataframe using getNearbyVenues function\n",
    "Venues_df = getNearbyVenues( city = Nghbr_df['City'], names=Nghbr_df['Neighborhood'],\n",
    "                            latitudes=Nghbr_df['Latitude'], longitudes=Nghbr_df['Longitude']\n",
    "                           )\n",
    "\n",
    "## Print size of the resulting dataframe\n",
    "print('This dataframe of Venues has {} rows and {} columns:'.format(Venues_df.shape[0]\n",
    "                                                                           ,Venues_df.shape[1]),'\\n')\n",
    "## Save the venus df to CSV File\n",
    "Venues_df.to_csv('Venues_df.csv', index=False) ## Saving the Final Dataframe as CSV\n",
    "print('Venues data for all neighborhood is saved to the csv file named: Venues_df.csv')\n",
    "\n",
    "## Take a look to dataframe\n",
    "Venues_df.head()"
   ]
  },
  {
   "cell_type": "markdown",
   "metadata": {},
   "source": [
    "*__Please Note:__ You can now use the csv file as local copy of Venues for further analysis, it will save time and resources used to send request to Forsquare API, and transformation response data.*"
   ]
  },
  {
   "cell_type": "markdown",
   "metadata": {},
   "source": [
    "Let's check how many venues were returned for each neighborhood."
   ]
  },
  {
   "cell_type": "code",
   "execution_count": null,
   "metadata": {},
   "outputs": [],
   "source": [
    "## Now that the data for both city is downloaded, let's read it into a pandas dataframe.\n",
    "Venues_df = pd.read_csv(\"Venues_df.csv\")\n",
    "Venues_df = Venues_df.join(Nghbr_df[['Neighborhood','Borough']].set_index('Neighborhood'),on='Neighborhood')\n",
    "Venues_df = Venues_df.reindex(['City','Borough','Neighborhood', 'Neighborhood Latitude','Neighborhood Longitude', \n",
    "                  'Venue', 'Venue Latitude', 'Venue Longitude','Venue Category'], axis=1)"
   ]
  },
  {
   "cell_type": "markdown",
   "metadata": {},
   "source": [
    "__Let's find out how many unique categories can be curated from all the returned venues__"
   ]
  },
  {
   "cell_type": "code",
   "execution_count": null,
   "metadata": {},
   "outputs": [],
   "source": [
    "print('There are {} uniques categories of venues.'.format(len(Venues_df['Venue Category'].unique())))"
   ]
  },
  {
   "cell_type": "code",
   "execution_count": null,
   "metadata": {},
   "outputs": [],
   "source": [
    "Venues_df['Venue Category'].unique().astype(str)"
   ]
  },
  {
   "cell_type": "code",
   "execution_count": null,
   "metadata": {},
   "outputs": [],
   "source": [
    "Venues_df['Venue Category'].unique()\n",
    "#df.replace(regex=[r'^ba.$', 'ffa'], value='new')"
   ]
  },
  {
   "cell_type": "code",
   "execution_count": null,
   "metadata": {
    "collapsed": false,
    "jupyter": {
     "outputs_hidden": false
    }
   },
   "outputs": [],
   "source": [
    "#print('# of Venues in each Neighborhood:')\n",
    "Venues_df.head()\n",
    "Venues_df.groupby(['Neighborhood'])[['Venue']].count()\n",
    "#Venues_df.groupby('Neighborhood').count()"
   ]
  },
  {
   "cell_type": "code",
   "execution_count": null,
   "metadata": {},
   "outputs": [],
   "source": [
    "help(Venues_df.filter('regex'))"
   ]
  },
  {
   "cell_type": "code",
   "execution_count": null,
   "metadata": {
    "collapsed": false,
    "jupyter": {
     "outputs_hidden": false
    }
   },
   "outputs": [],
   "source": [
    "# Venues_df.set_index('Venue Category').filter(like='Restaurant', axis=0)\n",
    "# Venues_df[(Venues_df['Venue Category'].str.contains(\"Ice Cream Shop\") | \n",
    "#            Venues_df['Venue Category'].str.contains(\"Donut Shop\"))]"
   ]
  },
  {
   "cell_type": "code",
   "execution_count": null,
   "metadata": {},
   "outputs": [],
   "source": []
  },
  {
   "cell_type": "code",
   "execution_count": null,
   "metadata": {},
   "outputs": [],
   "source": [
    "df[~df['ids'].str.contains(\"ball\")]"
   ]
  },
  {
   "cell_type": "code",
   "execution_count": null,
   "metadata": {},
   "outputs": [],
   "source": []
  }
 ],
 "metadata": {
  "kernelspec": {
   "display_name": "Python",
   "language": "python",
   "name": "conda-env-python-py"
  },
  "language_info": {
   "codemirror_mode": {
    "name": "ipython",
    "version": 3
   },
   "file_extension": ".py",
   "mimetype": "text/x-python",
   "name": "python",
   "nbconvert_exporter": "python",
   "pygments_lexer": "ipython3",
   "version": "3.6.10"
  }
 },
 "nbformat": 4,
 "nbformat_minor": 4
}
