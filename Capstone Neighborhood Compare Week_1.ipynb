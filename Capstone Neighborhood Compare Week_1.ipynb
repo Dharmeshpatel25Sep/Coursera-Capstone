{
 "cells": [
  {
   "cell_type": "markdown",
   "metadata": {},
   "source": [
    "# Capstone Project - The Battle of Neighborhoods\n",
    "#### Applied Data Science Capstone by IBM/Coursera"
   ]
  },
  {
   "cell_type": "markdown",
   "metadata": {},
   "source": [
    "## Table of contents\n",
    "* [Introduction: Business Problem](#introduction)\n",
    "* [Data](#data)\n",
    "\n",
    "<!-- * [Methodology](#methodology)\n",
    "* [Analysis](#analysis)\n",
    "* [Results and Discussion](#results)\n",
    "* [Conclusion](#conclusion) -->"
   ]
  },
  {
   "cell_type": "markdown",
   "metadata": {},
   "source": [
    "## Introduction: Business Problem <a name=\"introduction\"></a>"
   ]
  },
  {
   "cell_type": "markdown",
   "metadata": {},
   "source": [
    "__Is New York City more like Toronto?__\n",
    "\n",
    "Specifically, this project will be targeted to people/business new to the city and interested in finding out the neighborhoods with specific venue or venues, and compare it with the other neighborhoods. It will also help analyse the businesses within city.\n",
    "\n",
    "Primary objective of this project is to set up the process to compare Neighborhood across geographical location, and provide results that help us to analyze the selected Cities and its Neighborhoods compare to each other in terms of the likelihood of their neighborhoods and kind of venues they have. i.e. one can compare the cities in terms of the number of restaurants serving their favourite cuisine (# venues with in City), or neighborhoods which has venues of their choice (categories of venues with in neighborhood).\n",
    "\n",
    "We will use our data science powers to clean,analyse and classify the data, and then prepare final report with few graphs and folium maps."
   ]
  },
  {
   "cell_type": "markdown",
   "metadata": {},
   "source": [
    "## Data <a name=\"data\"></a>"
   ]
  },
  {
   "cell_type": "markdown",
   "metadata": {},
   "source": [
    "We will consider all neighborhoods of Toronto, Canada and New York city of America for this project, to compare neighborhoods across both the cities and to analyze neighborhoods having similar kind of venues within same or different city. \n",
    "\n",
    "We will be using Foursquare API to find out top 10 venues for each neighborhood.  To explore and find out a nearby venues using foursquare, We will need geographical location (Address, Longitude, Latitude) data for each neighborhood, For this project we will use the data I have already compiled earlier while working on previous capstone project and lab assignments. \n",
    "\n",
    "We will then explore, segment and cluster neighborhoods based on characteristics of top 10 venues surrounding (i.e. within 500 meter radius) of neighborhood's geographical location."
   ]
  },
  {
   "cell_type": "markdown",
   "metadata": {},
   "source": [
    "\n",
    "----------------------------------------------- End of week 1 assignment -----------------------------------------------\n",
    "<hr style=\"height:1px;border-width:0;color:white;background-color:brown\">"
   ]
  },
  {
   "cell_type": "code",
   "execution_count": null,
   "metadata": {},
   "outputs": [],
   "source": []
  }
 ],
 "metadata": {
  "kernelspec": {
   "display_name": "Python",
   "language": "python",
   "name": "conda-env-python-py"
  },
  "language_info": {
   "codemirror_mode": {
    "name": "ipython",
    "version": 3
   },
   "file_extension": ".py",
   "mimetype": "text/x-python",
   "name": "python",
   "nbconvert_exporter": "python",
   "pygments_lexer": "ipython3",
   "version": "3.6.10"
  }
 },
 "nbformat": 4,
 "nbformat_minor": 4
}
