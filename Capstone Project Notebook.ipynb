{
    "cells": [
        {
            "cell_type": "markdown",
            "metadata": {},
            "source": "# Data Science - Capstone Project"
        },
        {
            "cell_type": "markdown",
            "metadata": {},
            "source": "# Introduction:\n\n<p Style='font-size:140%;line-height: 30px'> This notebook is created for the applied data science project, to explore and cluster the neighborhoods in Toronto.</p>\n\n<hr style=\"height:2px;border-width:0;color:white;background-color:grey\">"
        },
        {
            "cell_type": "markdown",
            "metadata": {},
            "source": "## PART I - First Exercise\n\n<ol Style='font-size:120%;line-height: 25px'>\n    <li> Scrape the data of postal codes table from the following Wikipedia page: </li>\n    <a  href = https://en.wikipedia.org/wiki/List_of_postal_codes_of_Canada:_M> https://en.wikipedia.org/wiki/List_of_postal_codes_of_Canada:_M </a>\n    <li> Transform the data obtained from Wikipedia page into a pandas dataframe</li> </ol>"
        },
        {
            "cell_type": "markdown",
            "metadata": {},
            "source": "### Scrape the data of postal codes table from the Wikipedia page:\n<hr style=\"height:1px;border-width:0;color:white;background-color:brown\">\n<li Style='font-size:110%;color:brown'> Let us start with importing few essential libraries!! </li>"
        },
        {
            "cell_type": "code",
            "execution_count": 1,
            "metadata": {
                "scrolled": false
            },
            "outputs": [
                {
                    "name": "stdout",
                    "output_type": "stream",
                    "text": "Libraries Imported!\n"
                }
            ],
            "source": "## Import required libraries\nimport pandas as pd # library for data analsysis\npd.set_option('display.max_columns', None)\npd.set_option('display.max_rows', None)\nimport numpy as np # library to handle data in a vectorized manner\nprint(\"Libraries Imported!\")"
        },
        {
            "cell_type": "markdown",
            "metadata": {},
            "source": "<li Style='font-size:110%;color:brown'> Let us install beautifulsoup4 pacakge, we will use it to scrape Wikipedia web page </li>"
        },
        {
            "cell_type": "code",
            "execution_count": 2,
            "metadata": {
                "scrolled": false
            },
            "outputs": [
                {
                    "name": "stdout",
                    "output_type": "stream",
                    "text": "Requirement already satisfied: beautifulsoup4 in /opt/conda/envs/Python36/lib/python3.6/site-packages (4.7.1)\nRequirement already satisfied: soupsieve>=1.2 in /opt/conda/envs/Python36/lib/python3.6/site-packages (from beautifulsoup4) (1.7.1)\n\nBeautifulSoup Imported!\n"
                }
            ],
            "source": "!pip install beautifulsoup4 # uncomment incase you haven't installed already\n\nimport requests # for reading webpage through url\nfrom bs4 import BeautifulSoup # Pacakge requred for webpage Scraping\n\nprint(\"\\nBeautifulSoup Imported!\")"
        },
        {
            "cell_type": "markdown",
            "metadata": {},
            "source": "<li Style='font-size:110%;color:brown'> Save the html page as BeautifulSoup object called 'wikidata'. </li>"
        },
        {
            "cell_type": "code",
            "execution_count": 3,
            "metadata": {
                "scrolled": false
            },
            "outputs": [],
            "source": "## Use Wget function to get the HTML page\n!wget -q -O 'Toranto_postal_codes.html' https://en.wikipedia.org/wiki/List_of_postal_codes_of_Canada:_M\n        \n## Use BeautifulSoup Function\nwith open(\"Toranto_postal_codes.html\") as file:\n    wikidata = BeautifulSoup(file)"
        },
        {
            "cell_type": "markdown",
            "metadata": {},
            "source": "<li Style='font-size:110%;color:brown'> Explore the data from 'wikidata' object. </li>"
        },
        {
            "cell_type": "code",
            "execution_count": 4,
            "metadata": {
                "scrolled": false
            },
            "outputs": [
                {
                    "name": "stdout",
                    "output_type": "stream",
                    "text": "[<title>List of postal codes of Canada: M - Wikipedia</title>]\ndict_values([['wikitable', 'sortable']])\ndict_keys(['class']) \n\n['\\n', <tbody><tr>\n<th>Postal Code\n</th>\n<th>Borough\n</th>\n<th>Neighborhood\n</th></tr>\n<tr>\n<td>M1A\n</td>\n<td>Not assigned\n</td>\n<td>Not assigned\n</td\n"
                }
            ],
            "source": "## To explore html page copy, uncomment print commands below\n#print(wikidata.contents);\nprint(wikidata.find_all('title'));print(wikidata.table.attrs.values());print(wikidata.table.attrs.keys(),\"\\n\")\nprint(str(wikidata.find_all('table')[0].contents)[0:150])"
        },
        {
            "cell_type": "markdown",
            "metadata": {},
            "source": "<li Style='font-size:110%;color:brown'> Check the dataframes from 'wikidata' object which contains the required data </li>"
        },
        {
            "cell_type": "code",
            "execution_count": 5,
            "metadata": {
                "scrolled": false
            },
            "outputs": [],
            "source": "## To find desired table, I have written loop to list down index and class of all the tabel\ni=0\nfor data in wikidata.find_all('table:'):\n    print('\\n',data.name, i)\n    #print(list(data.attrs.keys()))\n    print('This is are header of tabel index no:',i,'and tabel class =',list(data.attrs.values()))\n    l=[]\n    for col_head in data.find_all('th'):\n        l.append(str(col_head.text).strip('\\n'))\n    print('columns:',l)\n    i=i+1"
        },
        {
            "cell_type": "markdown",
            "metadata": {},
            "source": "<li Style='font-size:110%;color:brown'> \n    Let us obtain the data, as now we know which table to query for Postalcode, Borough and Neighborhood.</li>"
        },
        {
            "cell_type": "code",
            "execution_count": 6,
            "metadata": {
                "scrolled": false
            },
            "outputs": [
                {
                    "name": "stdout",
                    "output_type": "stream",
                    "text": "\n1. html_table is <class 'bs4.element.Tag'> :\n\n2. pd_list shown below is <class 'list'> :\n\n   Postal Code       Borough  Neighborhood\n0         M1A  Not assigned  Not assigned\n1         M2A  Not assigned  Not assigned\n2         M3A    North York     Parkwoods \n\n3. Toronto_org_df shown below is <class 'pandas.core.frame.DataFrame'> :\n\n   Postal Code       Borough  Neighborhood\n0         M1A  Not assigned  Not assigned\n1         M2A  Not assigned  Not assigned\n2         M3A    North York     Parkwoods \n\n"
                }
            ],
            "source": "## Extract the requesite table (i.e create html-tag (html_table) using wikidata)\nhtml_table = wikidata.find('table', attrs={'class':'wikitable sortable'})\nprint ('\\n1. html_table is', type(html_table),':\\n')\n\n## lets read the html-tag (html_table) using pandas and convert it in to list (pd_list)\npd_list = pd.read_html(str(html_table))\nprint ('2. pd_list shown below is', type(pd_list),':\\n\\n',pd_list[0][:3],'\\n')\n\n## Now convert list (pd_list) in to pandas dataframe(df)\nToronto_org_df = pd.DataFrame(pd_list[0])\nprint ('3. Toronto_org_df shown below is',type(Toronto_org_df),':\\n\\n'\n       ,Toronto_org_df.head(3),'\\n')"
        },
        {
            "cell_type": "markdown",
            "metadata": {},
            "source": "### Transform the Data: Data Preprocessing and Cleansing\n<hr style=\"height:1px;border-width:0;color:white;background-color:brown\">\n<b Style='font-size:110%;line-height: 25px'>Instruction:</b>\n<ul Style='font-size:110%;line-height:25px'>\n    <li Style='left-padding:1'> \n        Only process the cells that have an assigned borough. i.e. Ignore the one without a borough.</li>\n    <li> If a cell has a borough but a Not assigned neighborhood, then the neighborhood will be the same as the borough.</li>\n    <li> Clean your Notebook and add Markdown cells to explain your work and any assumptions you are making.</li>\n    <li> In the last cell of your notebook, use the shape method to print the number of rows of your dataframe.</li> \n</ul>"
        },
        {
            "cell_type": "markdown",
            "metadata": {},
            "source": "<li Style='font-size:110%;color:brown'> \n    Process the rows that have an assigned Borough, and update Neighborhood in case missing.</li>"
        },
        {
            "cell_type": "code",
            "execution_count": 7,
            "metadata": {
                "scrolled": false
            },
            "outputs": [
                {
                    "name": "stdout",
                    "output_type": "stream",
                    "text": "\n Original data:\n\n   Postal Code       Borough  Neighborhood\n0         M1A  Not assigned  Not assigned\n1         M2A  Not assigned  Not assigned\n2         M3A    North York     Parkwoods \n\nOriginal data has # 180 rows.\n\n# 77 row were ignored as borough is not assigned:\n\n New dataframe:\n\n   Postal Code           Borough                                 Neighborhood\n0         M3A        North York                                    Parkwoods\n1         M4A        North York                             Victoria Village\n2         M5A  Downtown Toronto                    Regent Park, Harbourfront\n3         M6A        North York             Lawrence Manor, Lawrence Heights\n4         M7A  Downtown Toronto  Queen's Park, Ontario Provincial Government \n\nNew dataframe has # 103 rows.\n"
                }
            ],
            "source": "## View original data\nprint('\\n','Original data:\\n\\n', Toronto_org_df.head(3)\n      , '\\n\\nOriginal data has #',Toronto_org_df.shape[0],'rows.')\n\n## Creating copy of dataframe to work. note:keep original for refrence\nToronto_data = Toronto_org_df.copy()\n\n## View Data type and missing value etc.\n#Toronto_data.info(); Toronto_data.describe()\n\n## View the rows where borough is not assigned\n#print(Toronto_data[Toronto_data['Borough']=='Not assigned']) # uncomment to view\nprint('\\n#',len(Toronto_data[Toronto_data['Borough']=='Not assigned'])\n      ,'row were ignored as borough is not assigned:\\n')\n\n## Retain only relevent rows where Borough is asssigned\nToronto_data = Toronto_data[Toronto_data['Borough']!='Not assigned'].reset_index(drop=True)  \nprint(' New dataframe:\\n\\n', Toronto_data.head(), \n      '\\n\\nNew dataframe has #',Toronto_data.shape[0],'rows.')"
        },
        {
            "cell_type": "markdown",
            "metadata": {},
            "source": "Double-click __here__ for notes on different methods and coding practice.\n\n<!--\n# View original data\nprint('\\nOriginal Data:\\n', Toronto_org_df.head(), '\\n\\nOriginal Data has #',Toronto_org_df.shape[0],'rows.')\n\n# Creating copy of dataframe to work. note:keep original for refrence\nToronto_data = Toronto_org_df.copy()\n\n# View Data type and missing value etc.\n#Toronto_data.info(); Toronto_data.describe()\n# Correct data format - if required \n#df[['Postal Code','Borough']] = df[['Postal Code','Borough']].astype(\"str\") # \"int\",\"float\",\"str\"\n\n# View the rows where borough is not assigned\n#print(Toronto_data[Toronto_data['Borough']=='Not assigned']) # uncomment to view\nprint('\\n#', len(Toronto_data[Toronto_data['Borough']=='Not assigned']),'row were ignored as borough is not assigned:')\n\n# Query index & drop the rows where borough is not assigned\nToronto_data.drop(Toronto_data[Toronto_data['Borough']=='Not assigned'].index,axis=0, inplace=True)\nToronto_data.reset_index(drop=True, inplace=True) # Reset index, because we droped few rows\n\n# OR Retain only relevent rows where Borough is asssigned\n#Toronto_data = Toronto_data[Toronto_data['Borough']!='Not assigned'].reset_index(drop=True) # easy way  \n\nprint('\\nNew dataframe:\\n', Toronto_data.head(), '\\n\\nNew dataframe has #',Toronto_data.shape[0],'rows.') -->"
        },
        {
            "cell_type": "markdown",
            "metadata": {},
            "source": "<li Style='font-size:110%;color:brown'> Assign Neighborhood same as the Borough, in case Neighborhood missing.</li>"
        },
        {
            "cell_type": "code",
            "execution_count": 8,
            "metadata": {
                "scrolled": false
            },
            "outputs": [
                {
                    "name": "stdout",
                    "output_type": "stream",
                    "text": "\nIs there any null values found in Neighborhood column ?\nNote: True count represents nulls. \n\n False    103\nName: Neighborhood, dtype: int64\n"
                }
            ],
            "source": "## View if any Neighborhood is missing\n# print(Toronto_data['Neighborhood']) # Uncomment to view, not found any missing value\n\n## Check if null values in Neighborhood column\n#Toronto_data['Neighborhood'].isnull() # Uncomment to view, not found any Null value\nprint('\\nIs there any null values found in Neighborhood column ?\\nNote: True count represents nulls.',\n      '\\n\\n',Toronto_data['Neighborhood'].isnull().value_counts())\n\n## Rename Postal Code  column to remove space\nToronto_data.columns = ['PostalCode', 'Borough', 'Neighborhood']"
        },
        {
            "cell_type": "code",
            "execution_count": 9,
            "metadata": {
                "scrolled": false
            },
            "outputs": [
                {
                    "name": "stdout",
                    "output_type": "stream",
                    "text": "\nToronto dataframe:\n"
                },
                {
                    "data": {
                        "text/html": "<div>\n<style scoped>\n    .dataframe tbody tr th:only-of-type {\n        vertical-align: middle;\n    }\n\n    .dataframe tbody tr th {\n        vertical-align: top;\n    }\n\n    .dataframe thead th {\n        text-align: right;\n    }\n</style>\n<table border=\"1\" class=\"dataframe\">\n  <thead>\n    <tr style=\"text-align: right;\">\n      <th></th>\n      <th>PostalCode</th>\n      <th>Borough</th>\n      <th>Neighborhood</th>\n    </tr>\n  </thead>\n  <tbody>\n    <tr>\n      <th>0</th>\n      <td>M3A</td>\n      <td>North York</td>\n      <td>Parkwoods</td>\n    </tr>\n    <tr>\n      <th>1</th>\n      <td>M4A</td>\n      <td>North York</td>\n      <td>Victoria Village</td>\n    </tr>\n    <tr>\n      <th>2</th>\n      <td>M5A</td>\n      <td>Downtown Toronto</td>\n      <td>Regent Park, Harbourfront</td>\n    </tr>\n    <tr>\n      <th>3</th>\n      <td>M6A</td>\n      <td>North York</td>\n      <td>Lawrence Manor, Lawrence Heights</td>\n    </tr>\n    <tr>\n      <th>4</th>\n      <td>M7A</td>\n      <td>Downtown Toronto</td>\n      <td>Queen's Park, Ontario Provincial Government</td>\n    </tr>\n    <tr>\n      <th>5</th>\n      <td>M9A</td>\n      <td>Etobicoke</td>\n      <td>Islington Avenue, Humber Valley Village</td>\n    </tr>\n    <tr>\n      <th>6</th>\n      <td>M1B</td>\n      <td>Scarborough</td>\n      <td>Malvern, Rouge</td>\n    </tr>\n    <tr>\n      <th>7</th>\n      <td>M3B</td>\n      <td>North York</td>\n      <td>Don Mills</td>\n    </tr>\n    <tr>\n      <th>8</th>\n      <td>M4B</td>\n      <td>East York</td>\n      <td>Parkview Hill, Woodbine Gardens</td>\n    </tr>\n    <tr>\n      <th>9</th>\n      <td>M5B</td>\n      <td>Downtown Toronto</td>\n      <td>Garden District, Ryerson</td>\n    </tr>\n    <tr>\n      <th>10</th>\n      <td>M6B</td>\n      <td>North York</td>\n      <td>Glencairn</td>\n    </tr>\n    <tr>\n      <th>11</th>\n      <td>M9B</td>\n      <td>Etobicoke</td>\n      <td>West Deane Park, Princess Gardens, Martin Grov...</td>\n    </tr>\n  </tbody>\n</table>\n</div>",
                        "text/plain": "   PostalCode           Borough  \\\n0         M3A        North York   \n1         M4A        North York   \n2         M5A  Downtown Toronto   \n3         M6A        North York   \n4         M7A  Downtown Toronto   \n5         M9A         Etobicoke   \n6         M1B       Scarborough   \n7         M3B        North York   \n8         M4B         East York   \n9         M5B  Downtown Toronto   \n10        M6B        North York   \n11        M9B         Etobicoke   \n\n                                         Neighborhood  \n0                                           Parkwoods  \n1                                    Victoria Village  \n2                           Regent Park, Harbourfront  \n3                    Lawrence Manor, Lawrence Heights  \n4         Queen's Park, Ontario Provincial Government  \n5             Islington Avenue, Humber Valley Village  \n6                                      Malvern, Rouge  \n7                                           Don Mills  \n8                     Parkview Hill, Woodbine Gardens  \n9                            Garden District, Ryerson  \n10                                          Glencairn  \n11  West Deane Park, Princess Gardens, Martin Grov...  "
                    },
                    "execution_count": 9,
                    "metadata": {},
                    "output_type": "execute_result"
                }
            ],
            "source": "## View Final data frame\nprint('\\nToronto dataframe:')\nToronto_data.head(12)"
        },
        {
            "cell_type": "markdown",
            "metadata": {},
            "source": "<li Style='font-size:110%;color:brown'> Use the shape method to print the number of rows of your dataframe.</li>"
        },
        {
            "cell_type": "code",
            "execution_count": 10,
            "metadata": {
                "scrolled": false
            },
            "outputs": [
                {
                    "name": "stdout",
                    "output_type": "stream",
                    "text": "\nNew dataframe has # 103 rows.\n"
                }
            ],
            "source": "print('\\nNew dataframe has #',Toronto_data.shape[0],'rows.')"
        },
        {
            "cell_type": "markdown",
            "metadata": {},
            "source": "<h6 style='text-align:center'> End of PART I </h6>\n<hr style=\"height:2px;border-width:0;color:white;background-color:grey\">"
        },
        {
            "cell_type": "markdown",
            "metadata": {},
            "source": "## PART 2 - Second Exercise\n\n<p Style='font-size:130%;line-height: 25px'> Get the coordinates of each neighborhood and include it in the dataframe, in order to fetch the Foursquare location data</p>\n<ol Style='font-size:120%;line-height: 25px'>\n    <li> Use the Geocoder Python package for geocoding:\n    <a href='https://geocoder.readthedocs.io/index.html'> https://geocoder.readthedocs.io/index.html </a> </li> \n    <em Style='font-size:90%'> Note: Given that this package can be very unreliable, in case you are not able to get the coordinates, here is a link to a csv file that has the geographical coordinates of each postal code:</em> \n    <a href='http://cocl.us/Geospatial_data'> http://cocl.us/Geospatial_data </a>\n    <li> Create the dataframe, using the Geocoder package or the csv file:</li>\n</ol>\n<hr style=\"height:1px;border-width:0;color:white;background-color:brown\">"
        },
        {
            "cell_type": "markdown",
            "metadata": {},
            "source": "<li Style='font-size:110%;color:brown'> Let us start with installing Geocoder Pacakge!! </li>"
        },
        {
            "cell_type": "code",
            "execution_count": 11,
            "metadata": {
                "scrolled": false
            },
            "outputs": [
                {
                    "name": "stdout",
                    "output_type": "stream",
                    "text": "Requirement already satisfied: geocoder in /opt/conda/envs/Python36/lib/python3.6/site-packages (1.38.1)\nRequirement already satisfied: ratelim in /opt/conda/envs/Python36/lib/python3.6/site-packages (from geocoder) (0.1.6)\nRequirement already satisfied: click in /opt/conda/envs/Python36/lib/python3.6/site-packages (from geocoder) (7.0)\nRequirement already satisfied: future in /opt/conda/envs/Python36/lib/python3.6/site-packages (from geocoder) (0.17.1)\nRequirement already satisfied: six in /opt/conda/envs/Python36/lib/python3.6/site-packages (from geocoder) (1.12.0)\nRequirement already satisfied: requests in /opt/conda/envs/Python36/lib/python3.6/site-packages (from geocoder) (2.21.0)\nRequirement already satisfied: decorator in /opt/conda/envs/Python36/lib/python3.6/site-packages (from ratelim->geocoder) (4.3.2)\nRequirement already satisfied: urllib3<1.25,>=1.21.1 in /opt/conda/envs/Python36/lib/python3.6/site-packages (from requests->geocoder) (1.24.1)\nRequirement already satisfied: idna<2.9,>=2.5 in /opt/conda/envs/Python36/lib/python3.6/site-packages (from requests->geocoder) (2.8)\nRequirement already satisfied: certifi>=2017.4.17 in /opt/conda/envs/Python36/lib/python3.6/site-packages (from requests->geocoder) (2020.4.5.1)\nRequirement already satisfied: chardet<3.1.0,>=3.0.2 in /opt/conda/envs/Python36/lib/python3.6/site-packages (from requests->geocoder) (3.0.4)\n"
                }
            ],
            "source": "## Install Geocoder\n!pip install geocoder\nimport geocoder"
        },
        {
            "cell_type": "markdown",
            "metadata": {},
            "source": "<li Style='font-size:110%;color:brown'>Test the Geocoder by using it to geocode one adress out of few mentioned below  </li>"
        },
        {
            "cell_type": "code",
            "execution_count": 12,
            "metadata": {
                "scrolled": false
            },
            "outputs": [
                {
                    "name": "stdout",
                    "output_type": "stream",
                    "text": "None\n"
                }
            ],
            "source": "## Mountain View, CA', '102 North End Ave, New York, NY', 'M5G, Downtown Toronto, Central Bay Street'\ng = geocoder.google('Mountain View, CA') \nprint(g.latlng)"
        },
        {
            "cell_type": "markdown",
            "metadata": {},
            "source": "<li Style='font-size:110%;color:brown'> Let us test Google maps Geocoding API, as Geocoder returns none for each of the adress I tried to geocode. </li>"
        },
        {
            "cell_type": "code",
            "execution_count": 13,
            "metadata": {
                "scrolled": false
            },
            "outputs": [
                {
                    "data": {
                        "text/plain": "{'error_message': 'You must use an API key to authenticate each request to Google Maps Platform APIs. For additional information, please refer to http://g.co/dev/maps-no-account',\n 'results': [],\n 'status': 'REQUEST_DENIED'}"
                    },
                    "execution_count": 13,
                    "metadata": {},
                    "output_type": "execute_result"
                }
            ],
            "source": "import requests\nurl = 'https://maps.googleapis.com/maps/api/geocode/json'\nparams = {'sensor': 'false', 'address': 'Mountain View, CA'}\nr = requests.get(url, params=params)\nresults = r.json()\nresults"
        },
        {
            "cell_type": "markdown",
            "metadata": {},
            "source": "<li Style='font-size:110%;color:brown'> Let us get the coordinates from CSV file, seems Gecoder isn't working</li> \n<em Style='left-padding:1;font-size:110%'> Note: we might use geocoder from Conda, Nominatim module of Geopy package </em>"
        },
        {
            "cell_type": "code",
            "execution_count": 14,
            "metadata": {
                "scrolled": false
            },
            "outputs": [],
            "source": "## Let's download the data and save it as a CSV file called Toronto_geo.csv\n!wget -q -O 'Toronto_geo.csv' http://cocl.us/Geospatial_data\n\n## Now that the data is downloaded, let's read it into a pandas dataframe.\nToronto_geo = pd.read_csv(\"Toronto_geo.csv\")\n#Toronto_geo.head()"
        },
        {
            "cell_type": "code",
            "execution_count": 15,
            "metadata": {
                "scrolled": false
            },
            "outputs": [
                {
                    "name": "stdout",
                    "output_type": "stream",
                    "text": "\nMake sure no. of records matches across Dataframes: \n  # Records in original DataFrame: 103 \n  # Records in cordinates DataFrame: 103\n  # Records in final DataFrame: 103 \n\n Details:\n"
                },
                {
                    "data": {
                        "text/html": "<div>\n<style scoped>\n    .dataframe tbody tr th:only-of-type {\n        vertical-align: middle;\n    }\n\n    .dataframe tbody tr th {\n        vertical-align: top;\n    }\n\n    .dataframe thead th {\n        text-align: right;\n    }\n</style>\n<table border=\"1\" class=\"dataframe\">\n  <thead>\n    <tr style=\"text-align: right;\">\n      <th></th>\n      <th>PostalCode</th>\n      <th>Borough</th>\n      <th>Neighborhood</th>\n      <th>Latitude</th>\n      <th>Longitude</th>\n    </tr>\n  </thead>\n  <tbody>\n    <tr>\n      <th>0</th>\n      <td>M3A</td>\n      <td>North York</td>\n      <td>Parkwoods</td>\n      <td>43.753259</td>\n      <td>-79.329656</td>\n    </tr>\n    <tr>\n      <th>1</th>\n      <td>M4A</td>\n      <td>North York</td>\n      <td>Victoria Village</td>\n      <td>43.725882</td>\n      <td>-79.315572</td>\n    </tr>\n    <tr>\n      <th>2</th>\n      <td>M5A</td>\n      <td>Downtown Toronto</td>\n      <td>Regent Park, Harbourfront</td>\n      <td>43.654260</td>\n      <td>-79.360636</td>\n    </tr>\n    <tr>\n      <th>3</th>\n      <td>M6A</td>\n      <td>North York</td>\n      <td>Lawrence Manor, Lawrence Heights</td>\n      <td>43.718518</td>\n      <td>-79.464763</td>\n    </tr>\n    <tr>\n      <th>4</th>\n      <td>M7A</td>\n      <td>Downtown Toronto</td>\n      <td>Queen's Park, Ontario Provincial Government</td>\n      <td>43.662301</td>\n      <td>-79.389494</td>\n    </tr>\n    <tr>\n      <th>5</th>\n      <td>M9A</td>\n      <td>Etobicoke</td>\n      <td>Islington Avenue, Humber Valley Village</td>\n      <td>43.667856</td>\n      <td>-79.532242</td>\n    </tr>\n    <tr>\n      <th>6</th>\n      <td>M1B</td>\n      <td>Scarborough</td>\n      <td>Malvern, Rouge</td>\n      <td>43.806686</td>\n      <td>-79.194353</td>\n    </tr>\n    <tr>\n      <th>7</th>\n      <td>M3B</td>\n      <td>North York</td>\n      <td>Don Mills</td>\n      <td>43.745906</td>\n      <td>-79.352188</td>\n    </tr>\n    <tr>\n      <th>8</th>\n      <td>M4B</td>\n      <td>East York</td>\n      <td>Parkview Hill, Woodbine Gardens</td>\n      <td>43.706397</td>\n      <td>-79.309937</td>\n    </tr>\n    <tr>\n      <th>9</th>\n      <td>M5B</td>\n      <td>Downtown Toronto</td>\n      <td>Garden District, Ryerson</td>\n      <td>43.657162</td>\n      <td>-79.378937</td>\n    </tr>\n    <tr>\n      <th>10</th>\n      <td>M6B</td>\n      <td>North York</td>\n      <td>Glencairn</td>\n      <td>43.709577</td>\n      <td>-79.445073</td>\n    </tr>\n    <tr>\n      <th>11</th>\n      <td>M9B</td>\n      <td>Etobicoke</td>\n      <td>West Deane Park, Princess Gardens, Martin Grov...</td>\n      <td>43.650943</td>\n      <td>-79.554724</td>\n    </tr>\n  </tbody>\n</table>\n</div>",
                        "text/plain": "   PostalCode           Borough  \\\n0         M3A        North York   \n1         M4A        North York   \n2         M5A  Downtown Toronto   \n3         M6A        North York   \n4         M7A  Downtown Toronto   \n5         M9A         Etobicoke   \n6         M1B       Scarborough   \n7         M3B        North York   \n8         M4B         East York   \n9         M5B  Downtown Toronto   \n10        M6B        North York   \n11        M9B         Etobicoke   \n\n                                         Neighborhood   Latitude  Longitude  \n0                                           Parkwoods  43.753259 -79.329656  \n1                                    Victoria Village  43.725882 -79.315572  \n2                           Regent Park, Harbourfront  43.654260 -79.360636  \n3                    Lawrence Manor, Lawrence Heights  43.718518 -79.464763  \n4         Queen's Park, Ontario Provincial Government  43.662301 -79.389494  \n5             Islington Avenue, Humber Valley Village  43.667856 -79.532242  \n6                                      Malvern, Rouge  43.806686 -79.194353  \n7                                           Don Mills  43.745906 -79.352188  \n8                     Parkview Hill, Woodbine Gardens  43.706397 -79.309937  \n9                            Garden District, Ryerson  43.657162 -79.378937  \n10                                          Glencairn  43.709577 -79.445073  \n11  West Deane Park, Princess Gardens, Martin Grov...  43.650943 -79.554724  "
                    },
                    "execution_count": 15,
                    "metadata": {},
                    "output_type": "execute_result"
                }
            ],
            "source": "## Create new DataFrame & bring Lat, Long to our DataFrame\n\n## Print the # records to check if both dataset has equal rows\nprint('\\nMake sure no. of records matches across Dataframes:'\n      ,'\\n  # Records in original DataFrame:',Toronto_data.shape[0]\n      ,'\\n  # Records in cordinates DataFrame:',Toronto_geo.shape[0])\n\n## Joining the DataFrames\nToronto_data_final = Toronto_data.join(Toronto_geo.set_index('Postal Code')\n                                       , on='PostalCode', lsuffix='_l', rsuffix='_r')\n\n## Print the final DataFrame's information to check it has any missing or nulls\nprint('  # Records in final DataFrame:',Toronto_data_final.shape[0],'\\n\\n Details:')\n#print(Toronto_data_final.info(),'\\n')\n\n## Veiw Final Dataframe\nToronto_data_final.head(12)\n#Toronto_data_final.to_csv('net.csv', index=False) ## Saving the Final Dataframe as CSV"
        },
        {
            "cell_type": "markdown",
            "metadata": {},
            "source": "<h6 style='text-align:center'> End of PART II </h6>\n<hr style=\"height:2px;border-width:0;color:white;background-color:grey\">"
        },
        {
            "cell_type": "markdown",
            "metadata": {},
            "source": "## PART 3 - Third Exercise\n<p Style='font-size:130%;line-height: 25px'> Explore and cluster the neighborhoods in Toronto, replicate the analysis as we did for the New York.</p> \n<ol Style='font-size:120%;line-height: 25px'>\n    <li> Explore Toronto dataset and Select borough to cluster.</li>\n    <li> Explore neighborhoods in selected borough.</li>\n    <li> Analyze each neighborhood.</li>\n    <li> Cluster neighborhoods.</li>\n    <li> Examine clusters.</li>\n</ol>\n<b Style='font-size:130%;line-height: 25px'>Instruction:</b>\n    <ul Style='font-size:110%;line-height:25px'>        \n        <li Style='left-padding:1'> You can select data to work, such as the boroughs that contain the word Toronto.</li>\n        <li> Add Markdown cells to explain what you decided to do and to report any observations you make.</li>\n        <li> Generate maps to visualize your neighborhoods and how they cluster together.</li>\n    </ul>"
        },
        {
            "cell_type": "markdown",
            "metadata": {},
            "source": "### 1. Explore Toranto dataset, and select the borough to work with:\n<hr style=\"height:1px;border-width:0;color:white;background-color:brown\">"
        },
        {
            "cell_type": "markdown",
            "metadata": {},
            "source": "<li Style='font-size:110%;color:brown'> \n    Before we get the data and start exploring it, let's get all the libraries that we will need. </li>"
        },
        {
            "cell_type": "code",
            "execution_count": 52,
            "metadata": {
                "jupyter": {
                    "outputs_hidden": false
                },
                "scrolled": false
            },
            "outputs": [
                {
                    "name": "stdout",
                    "output_type": "stream",
                    "text": "Requirement already satisfied: folium==0.5.0 in /opt/conda/envs/Python36/lib/python3.6/site-packages (0.5.0)\nRequirement already satisfied: branca in /opt/conda/envs/Python36/lib/python3.6/site-packages (from folium==0.5.0) (0.4.1)\nRequirement already satisfied: jinja2 in /opt/conda/envs/Python36/lib/python3.6/site-packages (from folium==0.5.0) (2.10)\nRequirement already satisfied: six in /opt/conda/envs/Python36/lib/python3.6/site-packages (from folium==0.5.0) (1.12.0)\nRequirement already satisfied: requests in /opt/conda/envs/Python36/lib/python3.6/site-packages (from folium==0.5.0) (2.21.0)\nRequirement already satisfied: MarkupSafe>=0.23 in /opt/conda/envs/Python36/lib/python3.6/site-packages (from jinja2->folium==0.5.0) (1.1.0)\nRequirement already satisfied: certifi>=2017.4.17 in /opt/conda/envs/Python36/lib/python3.6/site-packages (from requests->folium==0.5.0) (2020.4.5.1)\nRequirement already satisfied: urllib3<1.25,>=1.21.1 in /opt/conda/envs/Python36/lib/python3.6/site-packages (from requests->folium==0.5.0) (1.24.1)\nRequirement already satisfied: idna<2.9,>=2.5 in /opt/conda/envs/Python36/lib/python3.6/site-packages (from requests->folium==0.5.0) (2.8)\nRequirement already satisfied: chardet<3.1.0,>=3.0.2 in /opt/conda/envs/Python36/lib/python3.6/site-packages (from requests->folium==0.5.0) (3.0.4)\nLibraries imported.\n"
                }
            ],
            "source": "# Imrorting Libraries  \nimport json # library to handle JSON files\n            \n#!pip install geopy\nfrom geopy.geocoders import Nominatim # convert an address into latitude and longitude values\n\nimport requests # library to handle requests\nfrom pandas.io.json import json_normalize # tranform JSON file into a pandas dataframe\n\n# Matplotlib and associated plotting modules\nimport matplotlib.cm as cm\nimport matplotlib.colors as colors\n%matplotlib inline\n\n# import k-means from clustering stage\nfrom sklearn.cluster import KMeans\n\n!pip install folium==0.5.0\nimport folium # map rendering library\n\nprint('Libraries imported.')"
        },
        {
            "cell_type": "markdown",
            "metadata": {},
            "source": "<li Style='font-size:110%;color:brown'> Let's take a detail view of boroughs in Toronto. </li>"
        },
        {
            "cell_type": "code",
            "execution_count": 17,
            "metadata": {
                "scrolled": false
            },
            "outputs": [
                {
                    "name": "stdout",
                    "output_type": "stream",
                    "text": "\nThe Toronto data has 10 boroughs and 103 neighborhoods.\n\n # of Neighborhoods in each Borough:\n\n            Borough  Neighborhood\n0   Central Toronto             9\n1  Downtown Toronto            19\n2      East Toronto             5\n3         East York             5\n4         Etobicoke            12\n5       Mississauga             1\n6        North York            24\n7       Scarborough            17\n8      West Toronto             6\n9              York             5 \n\n"
                }
            ],
            "source": "## Checking the number of Boroughs and Neighborhoods within each. \nprint('\\nThe Toronto data has {} boroughs and {} neighborhoods.'.format(\n    len(Toronto_data_final['Borough'].unique()),Toronto_data_final.shape[0]))\n\nprint('\\n # of Neighborhoods in each Borough:\\n')\nprint(Toronto_data_final[['Borough','Neighborhood']].groupby('Borough',as_index=False).count(),'\\n')\n\n#print(Toronto_data_final[Toronto_data_final['Borough']=='Central Toronto']['Neighborhood'])"
        },
        {
            "cell_type": "markdown",
            "metadata": {},
            "source": "<li Style='font-size:110%;color:brown'> Let's ceate a map of Toronto with all neighborhoods superimposed on top. </li>\n<Ol Style='font-size:100%;line-height:25px'> \n    <li> Get the latitude and longitude values of Toronto City using <b>geopy library</b> </li>\n    <li> We will define an instance of the Geocoder, and user_agent named <b>Toronto_explorer</b>.</li>\n    <li> Generate a map using <b>folium</b>.</li>\n</Ol>"
        },
        {
            "cell_type": "code",
            "execution_count": 18,
            "metadata": {
                "jupyter": {
                    "outputs_hidden": false
                },
                "scrolled": true
            },
            "outputs": [
                {
                    "name": "stdout",
                    "output_type": "stream",
                    "text": "\nThe geograpical coordinate of Toronto City are 43.6534817, -79.3839347. \n\n"
                }
            ],
            "source": "## Get Coordinates of Toranto city \naddress = 'Toronto City, Canada' ## or ('Toronto City, ON')\ngeolocator = Nominatim(user_agent=\"Toronto_explorer\")\nlocation = geolocator.geocode(address); latitude = location.latitude; longitude = location.longitude\n\nprint('\\nThe geograpical coordinate of Toronto City are {}, {}.'.format(latitude, longitude),'\\n')\n## creating a copy of Dataframe as neighborhoods\nneighborhoods = Toronto_data_final.copy()\n#neighborhoods = Toronto_data_final[Toronto_data_final['Borough']=='Central Toronto'].copy()\n\n## create map of Toronto using latitude and longitude values\nmap_Toronto = folium.Map(location=[latitude, longitude], zoom_start=10)\n\n# add markers to map\nfor lat, lng, borough, neighborhood in zip(neighborhoods['Latitude'], neighborhoods['Longitude']\n                                           , neighborhoods['Borough'], neighborhoods['Neighborhood']):\n    label = '{}, {}'.format(neighborhood, borough)\n    label = folium.Popup(label, parse_html=True)\n    folium.CircleMarker(\n        [lat, lng],\n        radius=5,\n        popup=label,\n        color='blue',\n        fill=True,\n        fill_color='#3186cc',\n        fill_opacity=0.7,\n        parse_html=False).add_to(map_Toronto)"
        },
        {
            "cell_type": "code",
            "execution_count": 53,
            "metadata": {},
            "outputs": [
                {
                    "data": {
                        "text/html": "<div style=\"width:100%;\"><div style=\"position:relative;width:100%;height:0;padding-bottom:60%;\"><span style=\"color:#565656\">Make this Notebook Trusted to load map: File -> Trust Notebook</span><iframe src=\"about:blank\" style=\"position:absolute;width:100%;height:100%;left:0;top:0;border:none !important;\" data-html=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 onload=\"this.contentDocument.open();this.contentDocument.write(atob(this.getAttribute('data-html')));this.contentDocument.close();\" allowfullscreen webkitallowfullscreen mozallowfullscreen></iframe></div></div>",
                        "text/plain": "<folium.folium.Map at 0x7f9d70826588>"
                    },
                    "execution_count": 53,
                    "metadata": {},
                    "output_type": "execute_result"
                }
            ],
            "source": "map_Toronto"
        },
        {
            "cell_type": "markdown",
            "metadata": {},
            "source": "<li Style='font-size:110%;color:brown'> Next, we will simplify the above map and segment and cluster only the neighborhoods in <b> Central Toronto </b> borough.</li>"
        },
        {
            "cell_type": "markdown",
            "metadata": {},
            "source": "<p Style='font-size:100%;'> \n    Let's slice the original dataframe to create a new one for Central Toronto borough.</p>"
        },
        {
            "cell_type": "code",
            "execution_count": 20,
            "metadata": {
                "scrolled": false
            },
            "outputs": [
                {
                    "name": "stdout",
                    "output_type": "stream",
                    "text": "\nNew Dataframe: CentralToronto_df\n\n"
                },
                {
                    "data": {
                        "text/html": "<div>\n<style scoped>\n    .dataframe tbody tr th:only-of-type {\n        vertical-align: middle;\n    }\n\n    .dataframe tbody tr th {\n        vertical-align: top;\n    }\n\n    .dataframe thead th {\n        text-align: right;\n    }\n</style>\n<table border=\"1\" class=\"dataframe\">\n  <thead>\n    <tr style=\"text-align: right;\">\n      <th></th>\n      <th>Borough</th>\n      <th>Neighborhood</th>\n      <th>Latitude</th>\n      <th>Longitude</th>\n    </tr>\n  </thead>\n  <tbody>\n    <tr>\n      <th>0</th>\n      <td>Central Toronto</td>\n      <td>Lawrence Park</td>\n      <td>43.728020</td>\n      <td>-79.388790</td>\n    </tr>\n    <tr>\n      <th>1</th>\n      <td>Central Toronto</td>\n      <td>Roselawn</td>\n      <td>43.711695</td>\n      <td>-79.416936</td>\n    </tr>\n    <tr>\n      <th>2</th>\n      <td>Central Toronto</td>\n      <td>Davisville North</td>\n      <td>43.712751</td>\n      <td>-79.390197</td>\n    </tr>\n    <tr>\n      <th>3</th>\n      <td>Central Toronto</td>\n      <td>Forest Hill North &amp; West, Forest Hill Road Park</td>\n      <td>43.696948</td>\n      <td>-79.411307</td>\n    </tr>\n    <tr>\n      <th>4</th>\n      <td>Central Toronto</td>\n      <td>North Toronto West, Lawrence Park</td>\n      <td>43.715383</td>\n      <td>-79.405678</td>\n    </tr>\n    <tr>\n      <th>5</th>\n      <td>Central Toronto</td>\n      <td>The Annex, North Midtown, Yorkville</td>\n      <td>43.672710</td>\n      <td>-79.405678</td>\n    </tr>\n    <tr>\n      <th>6</th>\n      <td>Central Toronto</td>\n      <td>Davisville</td>\n      <td>43.704324</td>\n      <td>-79.388790</td>\n    </tr>\n    <tr>\n      <th>7</th>\n      <td>Central Toronto</td>\n      <td>Moore Park, Summerhill East</td>\n      <td>43.689574</td>\n      <td>-79.383160</td>\n    </tr>\n    <tr>\n      <th>8</th>\n      <td>Central Toronto</td>\n      <td>Summerhill West, Rathnelly, South Hill, Forest...</td>\n      <td>43.686412</td>\n      <td>-79.400049</td>\n    </tr>\n  </tbody>\n</table>\n</div>",
                        "text/plain": "           Borough                                       Neighborhood  \\\n0  Central Toronto                                      Lawrence Park   \n1  Central Toronto                                           Roselawn   \n2  Central Toronto                                   Davisville North   \n3  Central Toronto    Forest Hill North & West, Forest Hill Road Park   \n4  Central Toronto                  North Toronto West, Lawrence Park   \n5  Central Toronto                The Annex, North Midtown, Yorkville   \n6  Central Toronto                                         Davisville   \n7  Central Toronto                        Moore Park, Summerhill East   \n8  Central Toronto  Summerhill West, Rathnelly, South Hill, Forest...   \n\n    Latitude  Longitude  \n0  43.728020 -79.388790  \n1  43.711695 -79.416936  \n2  43.712751 -79.390197  \n3  43.696948 -79.411307  \n4  43.715383 -79.405678  \n5  43.672710 -79.405678  \n6  43.704324 -79.388790  \n7  43.689574 -79.383160  \n8  43.686412 -79.400049  "
                    },
                    "execution_count": 20,
                    "metadata": {},
                    "output_type": "execute_result"
                }
            ],
            "source": "print('\\nNew Dataframe: CentralToronto_df\\n')\nCentralToronto_df = Toronto_data_final[Toronto_data_final['Borough']=='Central Toronto'].reset_index(drop=True)\nCentralToronto_df.iloc[:,1:]"
        },
        {
            "cell_type": "markdown",
            "metadata": {},
            "source": "<li Style='font-size:110%;color:brown'> Let's create map for Central Toronto and visualize the neighborhoods in it, as we did with Toronto City </li>"
        },
        {
            "cell_type": "code",
            "execution_count": 21,
            "metadata": {
                "jupyter": {
                    "outputs_hidden": false
                },
                "scrolled": false
            },
            "outputs": [
                {
                    "name": "stdout",
                    "output_type": "stream",
                    "text": "\nThe geograpical coordinate of Central Toronto are 43.6534817, -79.3839347. \n\n"
                }
            ],
            "source": "## Get Coordinates of Central Toronto. \naddress = 'Central Toronto, Canada' ## or ('Toronto City, ON')\ngeolocator = Nominatim(user_agent=\"Toronto_explorer\")\nlocation = geolocator.geocode(address); latitude = location.latitude; longitude = location.longitude\n\nprint('\\nThe geograpical coordinate of Central Toronto are {}, {}.'.format(latitude, longitude),'\\n')\n## creating a copy of Dataframe as neighborhoods\nneighborhoods = CentralToronto_df.copy()\n\n## Create map of Centrel Toronto using latitude and longitude values of borough\n#map_Toronto = folium.Map(location=[latitude, longitude], zoom_start=11)\n\n## I hae used one of its neighboorhood, for better view\nmap_Toronto = folium.Map(location=[43.696948,-79.411307], zoom_start=13) # Forest-Hill N :Coordinates\n \n## add markers to map\nfor lat, lng, borough, neighborhood in zip(neighborhoods['Latitude'], neighborhoods['Longitude']\n                                           , neighborhoods['Borough'], neighborhoods['Neighborhood']):\n    label = '{}, {}'.format(neighborhood, borough)\n    label = folium.Popup(label, parse_html=True)\n    folium.CircleMarker(\n        [lat, lng],\n        radius=5,\n        popup=label,\n        color='blue',\n        fill=True,\n        fill_color='#3186cc',\n        fill_opacity=0.7,\n        parse_html=False).add_to(map_Toronto)"
        },
        {
            "cell_type": "code",
            "execution_count": 22,
            "metadata": {},
            "outputs": [
                {
                    "data": {
                        "text/html": "<div style=\"width:100%;\"><div style=\"position:relative;width:100%;height:0;padding-bottom:60%;\"><span style=\"color:#565656\">Make this Notebook Trusted to load map: File -> Trust Notebook</span><iframe src=\"about:blank\" style=\"position:absolute;width:100%;height:100%;left:0;top:0;border:none !important;\" data-html=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 onload=\"this.contentDocument.open();this.contentDocument.write(atob(this.getAttribute('data-html')));this.contentDocument.close();\" allowfullscreen webkitallowfullscreen mozallowfullscreen></iframe></div></div>",
                        "text/plain": "<folium.folium.Map at 0x7f9d70826588>"
                    },
                    "execution_count": 22,
                    "metadata": {},
                    "output_type": "execute_result"
                }
            ],
            "source": "map_Toronto"
        },
        {
            "cell_type": "markdown",
            "metadata": {},
            "source": "<li Style='font-size:110%;color:brown'> Next, we are going to start utilizing the <b>Foursquare API</b> to explore the neighborhoods and segment them.</li>"
        },
        {
            "cell_type": "markdown",
            "metadata": {},
            "source": "__Define Foursquare Credentials and Version__    \nMake sure that you have created a Foursquare developer account and have your credentials handy"
        },
        {
            "cell_type": "code",
            "execution_count": 23,
            "metadata": {
                "scrolled": false
            },
            "outputs": [],
            "source": "# The code was removed by Watson Studio for sharing."
        },
        {
            "cell_type": "code",
            "execution_count": 24,
            "metadata": {
                "button": false,
                "jupyter": {
                    "outputs_hidden": false
                },
                "new_sheet": false,
                "run_control": {
                    "read_only": false
                },
                "scrolled": false
            },
            "outputs": [],
            "source": "# CLIENT_ID = 'xxxxxxxxxxxxx' # your Foursquare ID\n# CLIENT_SECRET = 'xxxxxxxxxxxxx' # your Foursquare Secret\nVERSION = '20180604'\nLIMIT = 30"
        },
        {
            "cell_type": "markdown",
            "metadata": {},
            "source": "__Let's explore the first neighborhood in our dataframe.__  \nGet the neighborhood's name."
        },
        {
            "cell_type": "code",
            "execution_count": 25,
            "metadata": {
                "jupyter": {
                    "outputs_hidden": false
                },
                "scrolled": false
            },
            "outputs": [
                {
                    "name": "stdout",
                    "output_type": "stream",
                    "text": "\nFirst Neighborhood is Lawrence Park .\n"
                }
            ],
            "source": "print('\\nFirst Neighborhood is',CentralToronto_df.loc[0, 'Neighborhood'],\".\")"
        },
        {
            "cell_type": "markdown",
            "metadata": {},
            "source": "__Get the neighborhood's latitude and longitude values.__"
        },
        {
            "cell_type": "code",
            "execution_count": 26,
            "metadata": {
                "jupyter": {
                    "outputs_hidden": false
                },
                "scrolled": false
            },
            "outputs": [
                {
                    "name": "stdout",
                    "output_type": "stream",
                    "text": "\nLatitude and longitude values of Lawrence Park are 43.7280205, -79.3887901.\n"
                }
            ],
            "source": "neighborhood_latitude = CentralToronto_df.loc[0, 'Latitude'] # neighborhood latitude value\nneighborhood_longitude = CentralToronto_df.loc[0, 'Longitude'] # neighborhood longitude value\nneighborhood_name = CentralToronto_df.loc[0, 'Neighborhood'] # neighborhood name\n\nprint('\\nLatitude and longitude values of {} are {}, {}.'.format\n      (neighborhood_name, neighborhood_latitude,neighborhood_longitude)) "
        },
        {
            "cell_type": "markdown",
            "metadata": {},
            "source": "__Now, let's get the top 100 venues that are in Lawrence Park within a radius of 500 meters.__   \nFirst, let's create the GET request URL. Name your URL **url**."
        },
        {
            "cell_type": "code",
            "execution_count": 27,
            "metadata": {
                "jupyter": {
                    "outputs_hidden": false
                },
                "scrolled": false
            },
            "outputs": [],
            "source": "## Define LIMIT query and radius \nradius = 500; LIMIT = 100\n\n## Define the corresponding URL\nurl = 'https://api.foursquare.com/v2/venues/explore?client_id={}&client_secret={}&ll={},{}&v={}&radius={}&limit={}'.format(\n    CLIENT_ID, CLIENT_SECRET, neighborhood_latitude, neighborhood_longitude, VERSION, radius, LIMIT)\n#url"
        },
        {
            "cell_type": "markdown",
            "metadata": {},
            "source": "__Send the GET request and examine the resutls__"
        },
        {
            "cell_type": "code",
            "execution_count": 28,
            "metadata": {
                "jupyter": {
                    "outputs_hidden": false
                },
                "scrolled": true
            },
            "outputs": [
                {
                    "data": {
                        "text/plain": "{'reasons': {'count': 0,\n  'items': [{'summary': 'This spot is popular',\n    'type': 'general',\n    'reasonName': 'globalInteractionReason'}]},\n 'venue': {'id': '50e6da19e4b0d8a78a0e9794',\n  'name': 'Lawrence Park Ravine',\n  'location': {'address': '3055 Yonge Street',\n   'crossStreet': 'Lawrence Avenue East',\n   'lat': 43.72696303913755,\n   'lng': -79.39438246708775,\n   'labeledLatLngs': [{'label': 'display',\n     'lat': 43.72696303913755,\n     'lng': -79.39438246708775}],\n   'distance': 465,\n   'cc': 'CA',\n   'city': 'Toronto',\n   'state': 'ON',\n   'country': 'Canada',\n   'formattedAddress': ['3055 Yonge Street (Lawrence Avenue East)',\n    'Toronto ON',\n    'Canada']},\n  'categories': [{'id': '4bf58dd8d48988d163941735',\n    'name': 'Park',\n    'pluralName': 'Parks',\n    'shortName': 'Park',\n    'icon': {'prefix': 'https://ss3.4sqi.net/img/categories_v2/parks_outdoors/park_',\n     'suffix': '.png'},\n    'primary': True}],\n  'photos': {'count': 0, 'groups': []}},\n 'referralId': 'e-0-50e6da19e4b0d8a78a0e9794-0'}"
                    },
                    "execution_count": 28,
                    "metadata": {},
                    "output_type": "execute_result"
                }
            ],
            "source": "results = requests.get(url).json()\n#results.keys()\nresults['response']['groups'][0]['items'][0]"
        },
        {
            "cell_type": "markdown",
            "metadata": {},
            "source": "__As we know Foursquare lab in the previous module, we know that all the information is in the *items* key.__  \n*Before we proceed, let's borrow the **get_category_type** function from the Foursquare lab.*"
        },
        {
            "cell_type": "code",
            "execution_count": 29,
            "metadata": {
                "scrolled": false
            },
            "outputs": [],
            "source": "# function that extracts the category of the venue\ndef get_category_type(row):\n    try:\n        categories_list = row['categories']\n    except:\n        categories_list = row['venue.categories']\n        \n    if len(categories_list) == 0:\n        return None\n    else:\n        return categories_list[0]['name']"
        },
        {
            "cell_type": "markdown",
            "metadata": {},
            "source": "__Now we are ready to clean the json and structure it into a *pandas* dataframe.__"
        },
        {
            "cell_type": "code",
            "execution_count": 30,
            "metadata": {
                "jupyter": {
                    "outputs_hidden": false
                },
                "scrolled": false
            },
            "outputs": [
                {
                    "name": "stdout",
                    "output_type": "stream",
                    "text": "\nNearby_venues dataframe for venues of Lawrence Park:\n\n"
                },
                {
                    "data": {
                        "text/html": "<div>\n<style scoped>\n    .dataframe tbody tr th:only-of-type {\n        vertical-align: middle;\n    }\n\n    .dataframe tbody tr th {\n        vertical-align: top;\n    }\n\n    .dataframe thead th {\n        text-align: right;\n    }\n</style>\n<table border=\"1\" class=\"dataframe\">\n  <thead>\n    <tr style=\"text-align: right;\">\n      <th></th>\n      <th>name</th>\n      <th>categories</th>\n      <th>lat</th>\n      <th>lng</th>\n    </tr>\n  </thead>\n  <tbody>\n    <tr>\n      <th>0</th>\n      <td>Lawrence Park Ravine</td>\n      <td>Park</td>\n      <td>43.726963</td>\n      <td>-79.394382</td>\n    </tr>\n    <tr>\n      <th>1</th>\n      <td>Zodiac Swim School</td>\n      <td>Swim School</td>\n      <td>43.728532</td>\n      <td>-79.382860</td>\n    </tr>\n    <tr>\n      <th>2</th>\n      <td>TTC Bus #162 - Lawrence-Donway</td>\n      <td>Bus Line</td>\n      <td>43.728026</td>\n      <td>-79.382805</td>\n    </tr>\n  </tbody>\n</table>\n</div>",
                        "text/plain": "                             name   categories        lat        lng\n0            Lawrence Park Ravine         Park  43.726963 -79.394382\n1              Zodiac Swim School  Swim School  43.728532 -79.382860\n2  TTC Bus #162 - Lawrence-Donway     Bus Line  43.728026 -79.382805"
                    },
                    "execution_count": 30,
                    "metadata": {},
                    "output_type": "execute_result"
                }
            ],
            "source": "## Get Venues detail\nvenues = results['response']['groups'][0]['items']  \nnearby_venues = json_normalize(venues) # flatten JSON\n\n# filter columns\nfiltered_columns = ['venue.name', 'venue.categories', 'venue.location.lat', 'venue.location.lng']\nnearby_venues =nearby_venues.loc[:, filtered_columns]\n\n# filter the category for each row\nnearby_venues['venue.categories'] = nearby_venues.apply(get_category_type, axis=1)\n\n# clean columns\nnearby_venues.columns = [col.split(\".\")[-1] for col in nearby_venues.columns]\n\n# View Near by Venue \nprint('\\nNearby_venues dataframe for venues of Lawrence Park:\\n')\nnearby_venues.head()"
        },
        {
            "cell_type": "markdown",
            "metadata": {},
            "source": "__how many venues were returned by Foursquare?__"
        },
        {
            "cell_type": "code",
            "execution_count": 31,
            "metadata": {
                "jupyter": {
                    "outputs_hidden": false
                },
                "scrolled": false
            },
            "outputs": [
                {
                    "name": "stdout",
                    "output_type": "stream",
                    "text": "\n# 3 venues were returned by Foursquare for Lawrence Park .\n"
                }
            ],
            "source": "print('\\n# {} venues were returned by Foursquare for {} .'.format(nearby_venues.shape[0],neighborhood_name))"
        },
        {
            "cell_type": "markdown",
            "metadata": {},
            "source": "### 2. Explore Neighborhoods of Central Toronto:\n<hr style=\"height:1px;border-width:0;color:white;background-color:brown\">"
        },
        {
            "cell_type": "markdown",
            "metadata": {},
            "source": "<li Style='font-size:110%;color:brown'> \n    Let's create a function to repeat the same process to all the neighborhoods in Central Toront </li>"
        },
        {
            "cell_type": "code",
            "execution_count": 32,
            "metadata": {
                "scrolled": false
            },
            "outputs": [],
            "source": "def getNearbyVenues(names, latitudes, longitudes, radius=500):\n    \n    venues_list=[]\n    for name, lat, lng in zip(names, latitudes, longitudes):\n        #print(name)            \n        # create the API request URL\n        url = 'https://api.foursquare.com/v2/venues/explore?&client_id={}&client_secret={}&v={}&ll={},{}&radius={}&limit={}'.format(\n            CLIENT_ID, CLIENT_SECRET, VERSION, lat, lng, radius, LIMIT)\n            \n        # make the GET request\n        results = requests.get(url).json()[\"response\"]['groups'][0]['items']\n        \n        # return only relevant information for each nearby venue\n        venues_list.append([\n            (name, lat, lng, v['venue']['name'], v['venue']['location']['lat'],\n              v['venue']['location']['lng'], v['venue']['categories'][0]['name']) \n            for v in results])\n    \n    nearby_venues = pd.DataFrame([item for venue_list in venues_list for item in venue_list])\n    nearby_venues.columns = ['Neighborhood', 'Neighborhood Latitude', 'Neighborhood Longitude',\n                             'Venue', 'Venue Latitude', 'Venue Longitude', 'Venue Category']\n    print('New dataframe for nearby venues is created.')\n    return(nearby_venues)"
        },
        {
            "cell_type": "markdown",
            "metadata": {},
            "source": "<li Style='font-size:110%;color:brown'> \n    Now,Let's use the above function on each neighborhood and create a new dataframe called <b>CenToront_venues</b>.</li>"
        },
        {
            "cell_type": "code",
            "execution_count": 33,
            "metadata": {
                "jupyter": {
                    "outputs_hidden": false
                },
                "scrolled": false
            },
            "outputs": [
                {
                    "name": "stdout",
                    "output_type": "stream",
                    "text": "New dataframe for nearby venues is created.\nThis dataframe of Venues has 110 rows and 7 columns:\n"
                },
                {
                    "data": {
                        "text/html": "<div>\n<style scoped>\n    .dataframe tbody tr th:only-of-type {\n        vertical-align: middle;\n    }\n\n    .dataframe tbody tr th {\n        vertical-align: top;\n    }\n\n    .dataframe thead th {\n        text-align: right;\n    }\n</style>\n<table border=\"1\" class=\"dataframe\">\n  <thead>\n    <tr style=\"text-align: right;\">\n      <th></th>\n      <th>Neighborhood</th>\n      <th>Neighborhood Latitude</th>\n      <th>Neighborhood Longitude</th>\n      <th>Venue</th>\n      <th>Venue Latitude</th>\n      <th>Venue Longitude</th>\n      <th>Venue Category</th>\n    </tr>\n  </thead>\n  <tbody>\n    <tr>\n      <th>0</th>\n      <td>Lawrence Park</td>\n      <td>43.728020</td>\n      <td>-79.388790</td>\n      <td>Lawrence Park Ravine</td>\n      <td>43.726963</td>\n      <td>-79.394382</td>\n      <td>Park</td>\n    </tr>\n    <tr>\n      <th>1</th>\n      <td>Lawrence Park</td>\n      <td>43.728020</td>\n      <td>-79.388790</td>\n      <td>Zodiac Swim School</td>\n      <td>43.728532</td>\n      <td>-79.382860</td>\n      <td>Swim School</td>\n    </tr>\n    <tr>\n      <th>2</th>\n      <td>Lawrence Park</td>\n      <td>43.728020</td>\n      <td>-79.388790</td>\n      <td>TTC Bus #162 - Lawrence-Donway</td>\n      <td>43.728026</td>\n      <td>-79.382805</td>\n      <td>Bus Line</td>\n    </tr>\n    <tr>\n      <th>3</th>\n      <td>Roselawn</td>\n      <td>43.711695</td>\n      <td>-79.416936</td>\n      <td>Ceiling Champions</td>\n      <td>43.713891</td>\n      <td>-79.420702</td>\n      <td>Home Service</td>\n    </tr>\n    <tr>\n      <th>4</th>\n      <td>Roselawn</td>\n      <td>43.711695</td>\n      <td>-79.416936</td>\n      <td>Rosalind's Garden Oasis</td>\n      <td>43.712189</td>\n      <td>-79.411978</td>\n      <td>Garden</td>\n    </tr>\n  </tbody>\n</table>\n</div>",
                        "text/plain": "    Neighborhood  Neighborhood Latitude  Neighborhood Longitude  \\\n0  Lawrence Park              43.728020              -79.388790   \n1  Lawrence Park              43.728020              -79.388790   \n2  Lawrence Park              43.728020              -79.388790   \n3       Roselawn              43.711695              -79.416936   \n4       Roselawn              43.711695              -79.416936   \n\n                            Venue  Venue Latitude  Venue Longitude  \\\n0            Lawrence Park Ravine       43.726963       -79.394382   \n1              Zodiac Swim School       43.728532       -79.382860   \n2  TTC Bus #162 - Lawrence-Donway       43.728026       -79.382805   \n3               Ceiling Champions       43.713891       -79.420702   \n4         Rosalind's Garden Oasis       43.712189       -79.411978   \n\n  Venue Category  \n0           Park  \n1    Swim School  \n2       Bus Line  \n3   Home Service  \n4         Garden  "
                    },
                    "execution_count": 33,
                    "metadata": {},
                    "output_type": "execute_result"
                }
            ],
            "source": "## Create new Dataframe using getNearbyVenues function\nCenToront_venues = getNearbyVenues( names=CentralToronto_df['Neighborhood'],\n                                    latitudes=CentralToronto_df['Latitude'],\n                                    longitudes=CentralToronto_df['Longitude']\n                                  )\n## Print size of the resulting dataframe\nprint('This dataframe of Venues has {} rows and {} columns:'.format(CenToront_venues.shape[0]\n                                                                    ,CenToront_venues.shape[1]))\n## Take a look to dataframe\nCenToront_venues.head()"
        },
        {
            "cell_type": "markdown",
            "metadata": {},
            "source": "__Let's check how many venues were returned for each neighborhood__"
        },
        {
            "cell_type": "code",
            "execution_count": 34,
            "metadata": {
                "jupyter": {
                    "outputs_hidden": false
                },
                "scrolled": false
            },
            "outputs": [
                {
                    "name": "stdout",
                    "output_type": "stream",
                    "text": "# of Venues in each Neighborhood:\n"
                },
                {
                    "data": {
                        "text/html": "<div>\n<style scoped>\n    .dataframe tbody tr th:only-of-type {\n        vertical-align: middle;\n    }\n\n    .dataframe tbody tr th {\n        vertical-align: top;\n    }\n\n    .dataframe thead th {\n        text-align: right;\n    }\n</style>\n<table border=\"1\" class=\"dataframe\">\n  <thead>\n    <tr style=\"text-align: right;\">\n      <th></th>\n      <th>Venue</th>\n    </tr>\n    <tr>\n      <th>Neighborhood</th>\n      <th></th>\n    </tr>\n  </thead>\n  <tbody>\n    <tr>\n      <th>Davisville</th>\n      <td>31</td>\n    </tr>\n    <tr>\n      <th>The Annex, North Midtown, Yorkville</th>\n      <td>22</td>\n    </tr>\n    <tr>\n      <th>North Toronto West, Lawrence Park</th>\n      <td>19</td>\n    </tr>\n    <tr>\n      <th>Summerhill West, Rathnelly, South Hill, Forest Hill SE, Deer Park</th>\n      <td>17</td>\n    </tr>\n    <tr>\n      <th>Davisville North</th>\n      <td>9</td>\n    </tr>\n    <tr>\n      <th>Forest Hill North &amp; West, Forest Hill Road Park</th>\n      <td>4</td>\n    </tr>\n    <tr>\n      <th>Lawrence Park</th>\n      <td>3</td>\n    </tr>\n    <tr>\n      <th>Roselawn</th>\n      <td>3</td>\n    </tr>\n    <tr>\n      <th>Moore Park, Summerhill East</th>\n      <td>2</td>\n    </tr>\n  </tbody>\n</table>\n</div>",
                        "text/plain": "                                                    Venue\nNeighborhood                                             \nDavisville                                             31\nThe Annex, North Midtown, Yorkville                    22\nNorth Toronto West, Lawrence Park                      19\nSummerhill West, Rathnelly, South Hill, Forest ...     17\nDavisville North                                        9\nForest Hill North & West, Forest Hill Road Park         4\nLawrence Park                                           3\nRoselawn                                                3\nMoore Park, Summerhill East                             2"
                    },
                    "execution_count": 34,
                    "metadata": {},
                    "output_type": "execute_result"
                }
            ],
            "source": "print('# of Venues in each Neighborhood:')\nCenToront_venues.groupby('Neighborhood').count()[['Venue']].sort_values(by='Venue',ascending=False)"
        },
        {
            "cell_type": "markdown",
            "metadata": {},
            "source": "__Let's find out how many unique categories can be curated from all the returned venues__"
        },
        {
            "cell_type": "code",
            "execution_count": 35,
            "metadata": {
                "jupyter": {
                    "outputs_hidden": false
                },
                "scrolled": false
            },
            "outputs": [
                {
                    "name": "stdout",
                    "output_type": "stream",
                    "text": "\nThere are 61 uniques categories of venues.\n"
                }
            ],
            "source": "print('\\nThere are {} uniques categories of venues.'.format(len(CenToront_venues['Venue Category'].unique())))"
        },
        {
            "cell_type": "markdown",
            "metadata": {},
            "source": "### 3. Analyze Each Neighborhood:\n<hr style=\"height:1px;border-width:0;color:white;background-color:brown\">"
        },
        {
            "cell_type": "markdown",
            "metadata": {},
            "source": "<li Style='font-size:110%;color:brown'> \n    Now that we have the detail of venues for each neighborhood, We will analyze them in order to cluster later on."
        },
        {
            "cell_type": "markdown",
            "metadata": {},
            "source": "__Create dataframe to overview the category of the venues at each Neighborhoo.__  \nApplying pandas, get_dummies() function .i.e. one hot encoding technique"
        },
        {
            "cell_type": "code",
            "execution_count": 36,
            "metadata": {
                "jupyter": {
                    "outputs_hidden": false
                },
                "scrolled": false
            },
            "outputs": [
                {
                    "name": "stdout",
                    "output_type": "stream",
                    "text": "\nNew dataframe has 110 rows and 62 columns: \n\n"
                },
                {
                    "data": {
                        "text/html": "<div>\n<style scoped>\n    .dataframe tbody tr th:only-of-type {\n        vertical-align: middle;\n    }\n\n    .dataframe tbody tr th {\n        vertical-align: top;\n    }\n\n    .dataframe thead th {\n        text-align: right;\n    }\n</style>\n<table border=\"1\" class=\"dataframe\">\n  <thead>\n    <tr style=\"text-align: right;\">\n      <th></th>\n      <th>Neighborhood</th>\n      <th>American Restaurant</th>\n      <th>BBQ Joint</th>\n      <th>Bagel Shop</th>\n      <th>Bank</th>\n      <th>Breakfast Spot</th>\n      <th>Brewery</th>\n      <th>Burger Joint</th>\n      <th>Bus Line</th>\n      <th>Caf\u00e9</th>\n      <th>Chinese Restaurant</th>\n      <th>Clothing Store</th>\n      <th>Coffee Shop</th>\n      <th>Convenience Store</th>\n      <th>Department Store</th>\n      <th>Dessert Shop</th>\n      <th>Diner</th>\n      <th>Donut Shop</th>\n      <th>Farmers Market</th>\n      <th>Fast Food Restaurant</th>\n      <th>Food &amp; Drink Shop</th>\n      <th>Fried Chicken Joint</th>\n      <th>Garden</th>\n      <th>Gas Station</th>\n      <th>Gourmet Shop</th>\n      <th>Greek Restaurant</th>\n      <th>Grocery Store</th>\n      <th>Gym</th>\n      <th>Gym / Fitness Center</th>\n      <th>History Museum</th>\n      <th>Home Service</th>\n      <th>Hotel</th>\n      <th>Ice Cream Shop</th>\n      <th>Indian Restaurant</th>\n      <th>Italian Restaurant</th>\n      <th>Jewelry Store</th>\n      <th>Light Rail Station</th>\n      <th>Liquor Store</th>\n      <th>Mexican Restaurant</th>\n      <th>Middle Eastern Restaurant</th>\n      <th>Miscellaneous Shop</th>\n      <th>Park</th>\n      <th>Pharmacy</th>\n      <th>Pizza Place</th>\n      <th>Pub</th>\n      <th>Rental Car Location</th>\n      <th>Restaurant</th>\n      <th>Salon / Barbershop</th>\n      <th>Sandwich Place</th>\n      <th>Seafood Restaurant</th>\n      <th>Spa</th>\n      <th>Sporting Goods Shop</th>\n      <th>Sports Bar</th>\n      <th>Supermarket</th>\n      <th>Sushi Restaurant</th>\n      <th>Swim School</th>\n      <th>Thai Restaurant</th>\n      <th>Toy / Game Store</th>\n      <th>Trail</th>\n      <th>Vegetarian / Vegan Restaurant</th>\n      <th>Vietnamese Restaurant</th>\n      <th>Yoga Studio</th>\n    </tr>\n  </thead>\n  <tbody>\n    <tr>\n      <th>0</th>\n      <td>Lawrence Park</td>\n      <td>0</td>\n      <td>0</td>\n      <td>0</td>\n      <td>0</td>\n      <td>0</td>\n      <td>0</td>\n      <td>0</td>\n      <td>0</td>\n      <td>0</td>\n      <td>0</td>\n      <td>0</td>\n      <td>0</td>\n      <td>0</td>\n      <td>0</td>\n      <td>0</td>\n      <td>0</td>\n      <td>0</td>\n      <td>0</td>\n      <td>0</td>\n      <td>0</td>\n      <td>0</td>\n      <td>0</td>\n      <td>0</td>\n      <td>0</td>\n      <td>0</td>\n      <td>0</td>\n      <td>0</td>\n      <td>0</td>\n      <td>0</td>\n      <td>0</td>\n      <td>0</td>\n      <td>0</td>\n      <td>0</td>\n      <td>0</td>\n      <td>0</td>\n      <td>0</td>\n      <td>0</td>\n      <td>0</td>\n      <td>0</td>\n      <td>0</td>\n      <td>1</td>\n      <td>0</td>\n      <td>0</td>\n      <td>0</td>\n      <td>0</td>\n      <td>0</td>\n      <td>0</td>\n      <td>0</td>\n      <td>0</td>\n      <td>0</td>\n      <td>0</td>\n      <td>0</td>\n      <td>0</td>\n      <td>0</td>\n      <td>0</td>\n      <td>0</td>\n      <td>0</td>\n      <td>0</td>\n      <td>0</td>\n      <td>0</td>\n      <td>0</td>\n    </tr>\n    <tr>\n      <th>1</th>\n      <td>Lawrence Park</td>\n      <td>0</td>\n      <td>0</td>\n      <td>0</td>\n      <td>0</td>\n      <td>0</td>\n      <td>0</td>\n      <td>0</td>\n      <td>0</td>\n      <td>0</td>\n      <td>0</td>\n      <td>0</td>\n      <td>0</td>\n      <td>0</td>\n      <td>0</td>\n      <td>0</td>\n      <td>0</td>\n      <td>0</td>\n      <td>0</td>\n      <td>0</td>\n      <td>0</td>\n      <td>0</td>\n      <td>0</td>\n      <td>0</td>\n      <td>0</td>\n      <td>0</td>\n      <td>0</td>\n      <td>0</td>\n      <td>0</td>\n      <td>0</td>\n      <td>0</td>\n      <td>0</td>\n      <td>0</td>\n      <td>0</td>\n      <td>0</td>\n      <td>0</td>\n      <td>0</td>\n      <td>0</td>\n      <td>0</td>\n      <td>0</td>\n      <td>0</td>\n      <td>0</td>\n      <td>0</td>\n      <td>0</td>\n      <td>0</td>\n      <td>0</td>\n      <td>0</td>\n      <td>0</td>\n      <td>0</td>\n      <td>0</td>\n      <td>0</td>\n      <td>0</td>\n      <td>0</td>\n      <td>0</td>\n      <td>0</td>\n      <td>1</td>\n      <td>0</td>\n      <td>0</td>\n      <td>0</td>\n      <td>0</td>\n      <td>0</td>\n      <td>0</td>\n    </tr>\n    <tr>\n      <th>2</th>\n      <td>Lawrence Park</td>\n      <td>0</td>\n      <td>0</td>\n      <td>0</td>\n      <td>0</td>\n      <td>0</td>\n      <td>0</td>\n      <td>0</td>\n      <td>1</td>\n      <td>0</td>\n      <td>0</td>\n      <td>0</td>\n      <td>0</td>\n      <td>0</td>\n      <td>0</td>\n      <td>0</td>\n      <td>0</td>\n      <td>0</td>\n      <td>0</td>\n      <td>0</td>\n      <td>0</td>\n      <td>0</td>\n      <td>0</td>\n      <td>0</td>\n      <td>0</td>\n      <td>0</td>\n      <td>0</td>\n      <td>0</td>\n      <td>0</td>\n      <td>0</td>\n      <td>0</td>\n      <td>0</td>\n      <td>0</td>\n      <td>0</td>\n      <td>0</td>\n      <td>0</td>\n      <td>0</td>\n      <td>0</td>\n      <td>0</td>\n      <td>0</td>\n      <td>0</td>\n      <td>0</td>\n      <td>0</td>\n      <td>0</td>\n      <td>0</td>\n      <td>0</td>\n      <td>0</td>\n      <td>0</td>\n      <td>0</td>\n      <td>0</td>\n      <td>0</td>\n      <td>0</td>\n      <td>0</td>\n      <td>0</td>\n      <td>0</td>\n      <td>0</td>\n      <td>0</td>\n      <td>0</td>\n      <td>0</td>\n      <td>0</td>\n      <td>0</td>\n      <td>0</td>\n    </tr>\n    <tr>\n      <th>3</th>\n      <td>Roselawn</td>\n      <td>0</td>\n      <td>0</td>\n      <td>0</td>\n      <td>0</td>\n      <td>0</td>\n      <td>0</td>\n      <td>0</td>\n      <td>0</td>\n      <td>0</td>\n      <td>0</td>\n      <td>0</td>\n      <td>0</td>\n      <td>0</td>\n      <td>0</td>\n      <td>0</td>\n      <td>0</td>\n      <td>0</td>\n      <td>0</td>\n      <td>0</td>\n      <td>0</td>\n      <td>0</td>\n      <td>0</td>\n      <td>0</td>\n      <td>0</td>\n      <td>0</td>\n      <td>0</td>\n      <td>0</td>\n      <td>0</td>\n      <td>0</td>\n      <td>1</td>\n      <td>0</td>\n      <td>0</td>\n      <td>0</td>\n      <td>0</td>\n      <td>0</td>\n      <td>0</td>\n      <td>0</td>\n      <td>0</td>\n      <td>0</td>\n      <td>0</td>\n      <td>0</td>\n      <td>0</td>\n      <td>0</td>\n      <td>0</td>\n      <td>0</td>\n      <td>0</td>\n      <td>0</td>\n      <td>0</td>\n      <td>0</td>\n      <td>0</td>\n      <td>0</td>\n      <td>0</td>\n      <td>0</td>\n      <td>0</td>\n      <td>0</td>\n      <td>0</td>\n      <td>0</td>\n      <td>0</td>\n      <td>0</td>\n      <td>0</td>\n      <td>0</td>\n    </tr>\n    <tr>\n      <th>4</th>\n      <td>Roselawn</td>\n      <td>0</td>\n      <td>0</td>\n      <td>0</td>\n      <td>0</td>\n      <td>0</td>\n      <td>0</td>\n      <td>0</td>\n      <td>0</td>\n      <td>0</td>\n      <td>0</td>\n      <td>0</td>\n      <td>0</td>\n      <td>0</td>\n      <td>0</td>\n      <td>0</td>\n      <td>0</td>\n      <td>0</td>\n      <td>0</td>\n      <td>0</td>\n      <td>0</td>\n      <td>0</td>\n      <td>1</td>\n      <td>0</td>\n      <td>0</td>\n      <td>0</td>\n      <td>0</td>\n      <td>0</td>\n      <td>0</td>\n      <td>0</td>\n      <td>0</td>\n      <td>0</td>\n      <td>0</td>\n      <td>0</td>\n      <td>0</td>\n      <td>0</td>\n      <td>0</td>\n      <td>0</td>\n      <td>0</td>\n      <td>0</td>\n      <td>0</td>\n      <td>0</td>\n      <td>0</td>\n      <td>0</td>\n      <td>0</td>\n      <td>0</td>\n      <td>0</td>\n      <td>0</td>\n      <td>0</td>\n      <td>0</td>\n      <td>0</td>\n      <td>0</td>\n      <td>0</td>\n      <td>0</td>\n      <td>0</td>\n      <td>0</td>\n      <td>0</td>\n      <td>0</td>\n      <td>0</td>\n      <td>0</td>\n      <td>0</td>\n      <td>0</td>\n    </tr>\n  </tbody>\n</table>\n</div>",
                        "text/plain": "    Neighborhood  American Restaurant  BBQ Joint  Bagel Shop  Bank  \\\n0  Lawrence Park                    0          0           0     0   \n1  Lawrence Park                    0          0           0     0   \n2  Lawrence Park                    0          0           0     0   \n3       Roselawn                    0          0           0     0   \n4       Roselawn                    0          0           0     0   \n\n   Breakfast Spot  Brewery  Burger Joint  Bus Line  Caf\u00e9  Chinese Restaurant  \\\n0               0        0             0         0     0                   0   \n1               0        0             0         0     0                   0   \n2               0        0             0         1     0                   0   \n3               0        0             0         0     0                   0   \n4               0        0             0         0     0                   0   \n\n   Clothing Store  Coffee Shop  Convenience Store  Department Store  \\\n0               0            0                  0                 0   \n1               0            0                  0                 0   \n2               0            0                  0                 0   \n3               0            0                  0                 0   \n4               0            0                  0                 0   \n\n   Dessert Shop  Diner  Donut Shop  Farmers Market  Fast Food Restaurant  \\\n0             0      0           0               0                     0   \n1             0      0           0               0                     0   \n2             0      0           0               0                     0   \n3             0      0           0               0                     0   \n4             0      0           0               0                     0   \n\n   Food & Drink Shop  Fried Chicken Joint  Garden  Gas Station  Gourmet Shop  \\\n0                  0                    0       0            0             0   \n1                  0                    0       0            0             0   \n2                  0                    0       0            0             0   \n3                  0                    0       0            0             0   \n4                  0                    0       1            0             0   \n\n   Greek Restaurant  Grocery Store  Gym  Gym / Fitness Center  History Museum  \\\n0                 0              0    0                     0               0   \n1                 0              0    0                     0               0   \n2                 0              0    0                     0               0   \n3                 0              0    0                     0               0   \n4                 0              0    0                     0               0   \n\n   Home Service  Hotel  Ice Cream Shop  Indian Restaurant  Italian Restaurant  \\\n0             0      0               0                  0                   0   \n1             0      0               0                  0                   0   \n2             0      0               0                  0                   0   \n3             1      0               0                  0                   0   \n4             0      0               0                  0                   0   \n\n   Jewelry Store  Light Rail Station  Liquor Store  Mexican Restaurant  \\\n0              0                   0             0                   0   \n1              0                   0             0                   0   \n2              0                   0             0                   0   \n3              0                   0             0                   0   \n4              0                   0             0                   0   \n\n   Middle Eastern Restaurant  Miscellaneous Shop  Park  Pharmacy  Pizza Place  \\\n0                          0                   0     1         0            0   \n1                          0                   0     0         0            0   \n2                          0                   0     0         0            0   \n3                          0                   0     0         0            0   \n4                          0                   0     0         0            0   \n\n   Pub  Rental Car Location  Restaurant  Salon / Barbershop  Sandwich Place  \\\n0    0                    0           0                   0               0   \n1    0                    0           0                   0               0   \n2    0                    0           0                   0               0   \n3    0                    0           0                   0               0   \n4    0                    0           0                   0               0   \n\n   Seafood Restaurant  Spa  Sporting Goods Shop  Sports Bar  Supermarket  \\\n0                   0    0                    0           0            0   \n1                   0    0                    0           0            0   \n2                   0    0                    0           0            0   \n3                   0    0                    0           0            0   \n4                   0    0                    0           0            0   \n\n   Sushi Restaurant  Swim School  Thai Restaurant  Toy / Game Store  Trail  \\\n0                 0            0                0                 0      0   \n1                 0            1                0                 0      0   \n2                 0            0                0                 0      0   \n3                 0            0                0                 0      0   \n4                 0            0                0                 0      0   \n\n   Vegetarian / Vegan Restaurant  Vietnamese Restaurant  Yoga Studio  \n0                              0                      0            0  \n1                              0                      0            0  \n2                              0                      0            0  \n3                              0                      0            0  \n4                              0                      0            0  "
                    },
                    "execution_count": 36,
                    "metadata": {},
                    "output_type": "execute_result"
                }
            ],
            "source": "# one hot encoding\nCenToront_onehot = pd.get_dummies(CenToront_venues[['Venue Category']], prefix=\"\", prefix_sep=\"\")\n\n# add neighborhood column back to dataframe\nCenToront_onehot['Neighborhood'] = CenToront_venues['Neighborhood'] \n\n# move neighborhood column to the first column\nfixed_columns = [CenToront_onehot.columns[-1]] + list(CenToront_onehot.columns[:-1])\nCenToront_onehot = CenToront_onehot[fixed_columns]\n\n## print size of dataframe\nprint('\\nNew dataframe has {} rows and {} columns:'.format(CenToront_onehot.shape[0]\n                                                         ,CenToront_onehot.shape[1]),'\\n')\n## Take a look to dataframe\nCenToront_onehot.head()\n#CenToront_onehot[list(CenToront_onehot.columns[:15])+ [CenToront_onehot.columns[-1]]]"
        },
        {
            "cell_type": "markdown",
            "metadata": {},
            "source": "__Next, let's find out the mean frequency of occurrence of each category.__   \nGroup rows by neighborhood and by taking the mean of the frequency of occurrence of each category."
        },
        {
            "cell_type": "code",
            "execution_count": 37,
            "metadata": {
                "jupyter": {
                    "outputs_hidden": false
                },
                "scrolled": false
            },
            "outputs": [
                {
                    "name": "stdout",
                    "output_type": "stream",
                    "text": "mean values dataframe:\n"
                },
                {
                    "data": {
                        "text/html": "<div>\n<style scoped>\n    .dataframe tbody tr th:only-of-type {\n        vertical-align: middle;\n    }\n\n    .dataframe tbody tr th {\n        vertical-align: top;\n    }\n\n    .dataframe thead th {\n        text-align: right;\n    }\n</style>\n<table border=\"1\" class=\"dataframe\">\n  <thead>\n    <tr style=\"text-align: right;\">\n      <th></th>\n      <th>Neighborhood</th>\n      <th>American Restaurant</th>\n      <th>BBQ Joint</th>\n      <th>Bagel Shop</th>\n      <th>Bank</th>\n      <th>Breakfast Spot</th>\n      <th>Brewery</th>\n      <th>Burger Joint</th>\n      <th>Bus Line</th>\n      <th>Caf\u00e9</th>\n      <th>Chinese Restaurant</th>\n      <th>Clothing Store</th>\n      <th>Coffee Shop</th>\n      <th>Convenience Store</th>\n      <th>Department Store</th>\n      <th>Dessert Shop</th>\n      <th>Diner</th>\n      <th>Donut Shop</th>\n      <th>Farmers Market</th>\n      <th>Fast Food Restaurant</th>\n      <th>Food &amp; Drink Shop</th>\n      <th>Fried Chicken Joint</th>\n      <th>Garden</th>\n      <th>Gas Station</th>\n      <th>Gourmet Shop</th>\n      <th>Greek Restaurant</th>\n      <th>Grocery Store</th>\n      <th>Gym</th>\n      <th>Gym / Fitness Center</th>\n      <th>History Museum</th>\n      <th>Home Service</th>\n      <th>Hotel</th>\n      <th>Ice Cream Shop</th>\n      <th>Indian Restaurant</th>\n      <th>Italian Restaurant</th>\n      <th>Jewelry Store</th>\n      <th>Light Rail Station</th>\n      <th>Liquor Store</th>\n      <th>Mexican Restaurant</th>\n      <th>Middle Eastern Restaurant</th>\n      <th>Miscellaneous Shop</th>\n      <th>Park</th>\n      <th>Pharmacy</th>\n      <th>Pizza Place</th>\n      <th>Pub</th>\n      <th>Rental Car Location</th>\n      <th>Restaurant</th>\n      <th>Salon / Barbershop</th>\n      <th>Sandwich Place</th>\n      <th>Seafood Restaurant</th>\n      <th>Spa</th>\n      <th>Sporting Goods Shop</th>\n      <th>Sports Bar</th>\n      <th>Supermarket</th>\n      <th>Sushi Restaurant</th>\n      <th>Swim School</th>\n      <th>Thai Restaurant</th>\n      <th>Toy / Game Store</th>\n      <th>Trail</th>\n      <th>Vegetarian / Vegan Restaurant</th>\n      <th>Vietnamese Restaurant</th>\n      <th>Yoga Studio</th>\n    </tr>\n  </thead>\n  <tbody>\n    <tr>\n      <th>0</th>\n      <td>Davisville</td>\n      <td>0.0</td>\n      <td>0.0</td>\n      <td>0.0</td>\n      <td>0.0</td>\n      <td>0.000000</td>\n      <td>0.032258</td>\n      <td>0.0</td>\n      <td>0.000000</td>\n      <td>0.064516</td>\n      <td>0.0</td>\n      <td>0.0</td>\n      <td>0.064516</td>\n      <td>0.0</td>\n      <td>0.000000</td>\n      <td>0.096774</td>\n      <td>0.032258</td>\n      <td>0.0</td>\n      <td>0.032258</td>\n      <td>0.0</td>\n      <td>0.000000</td>\n      <td>0.0</td>\n      <td>0.0</td>\n      <td>0.032258</td>\n      <td>0.032258</td>\n      <td>0.032258</td>\n      <td>0.0</td>\n      <td>0.064516</td>\n      <td>0.000000</td>\n      <td>0.0</td>\n      <td>0.0</td>\n      <td>0.000000</td>\n      <td>0.0</td>\n      <td>0.032258</td>\n      <td>0.064516</td>\n      <td>0.00</td>\n      <td>0.0</td>\n      <td>0.0</td>\n      <td>0.00</td>\n      <td>0.0</td>\n      <td>0.0</td>\n      <td>0.032258</td>\n      <td>0.032258</td>\n      <td>0.064516</td>\n      <td>0.0</td>\n      <td>0.0</td>\n      <td>0.032258</td>\n      <td>0.0</td>\n      <td>0.096774</td>\n      <td>0.032258</td>\n      <td>0.0</td>\n      <td>0.0</td>\n      <td>0.0</td>\n      <td>0.0</td>\n      <td>0.064516</td>\n      <td>0.000000</td>\n      <td>0.032258</td>\n      <td>0.032258</td>\n      <td>0.00</td>\n      <td>0.0</td>\n      <td>0.0</td>\n      <td>0.0</td>\n    </tr>\n    <tr>\n      <th>1</th>\n      <td>Davisville North</td>\n      <td>0.0</td>\n      <td>0.0</td>\n      <td>0.0</td>\n      <td>0.0</td>\n      <td>0.111111</td>\n      <td>0.000000</td>\n      <td>0.0</td>\n      <td>0.000000</td>\n      <td>0.000000</td>\n      <td>0.0</td>\n      <td>0.0</td>\n      <td>0.000000</td>\n      <td>0.0</td>\n      <td>0.111111</td>\n      <td>0.000000</td>\n      <td>0.000000</td>\n      <td>0.0</td>\n      <td>0.000000</td>\n      <td>0.0</td>\n      <td>0.111111</td>\n      <td>0.0</td>\n      <td>0.0</td>\n      <td>0.000000</td>\n      <td>0.000000</td>\n      <td>0.000000</td>\n      <td>0.0</td>\n      <td>0.111111</td>\n      <td>0.111111</td>\n      <td>0.0</td>\n      <td>0.0</td>\n      <td>0.111111</td>\n      <td>0.0</td>\n      <td>0.000000</td>\n      <td>0.000000</td>\n      <td>0.00</td>\n      <td>0.0</td>\n      <td>0.0</td>\n      <td>0.00</td>\n      <td>0.0</td>\n      <td>0.0</td>\n      <td>0.111111</td>\n      <td>0.000000</td>\n      <td>0.111111</td>\n      <td>0.0</td>\n      <td>0.0</td>\n      <td>0.000000</td>\n      <td>0.0</td>\n      <td>0.111111</td>\n      <td>0.000000</td>\n      <td>0.0</td>\n      <td>0.0</td>\n      <td>0.0</td>\n      <td>0.0</td>\n      <td>0.000000</td>\n      <td>0.000000</td>\n      <td>0.000000</td>\n      <td>0.000000</td>\n      <td>0.00</td>\n      <td>0.0</td>\n      <td>0.0</td>\n      <td>0.0</td>\n    </tr>\n    <tr>\n      <th>2</th>\n      <td>Forest Hill North &amp; West, Forest Hill Road Park</td>\n      <td>0.0</td>\n      <td>0.0</td>\n      <td>0.0</td>\n      <td>0.0</td>\n      <td>0.000000</td>\n      <td>0.000000</td>\n      <td>0.0</td>\n      <td>0.000000</td>\n      <td>0.000000</td>\n      <td>0.0</td>\n      <td>0.0</td>\n      <td>0.000000</td>\n      <td>0.0</td>\n      <td>0.000000</td>\n      <td>0.000000</td>\n      <td>0.000000</td>\n      <td>0.0</td>\n      <td>0.000000</td>\n      <td>0.0</td>\n      <td>0.000000</td>\n      <td>0.0</td>\n      <td>0.0</td>\n      <td>0.000000</td>\n      <td>0.000000</td>\n      <td>0.000000</td>\n      <td>0.0</td>\n      <td>0.000000</td>\n      <td>0.000000</td>\n      <td>0.0</td>\n      <td>0.0</td>\n      <td>0.000000</td>\n      <td>0.0</td>\n      <td>0.000000</td>\n      <td>0.000000</td>\n      <td>0.25</td>\n      <td>0.0</td>\n      <td>0.0</td>\n      <td>0.25</td>\n      <td>0.0</td>\n      <td>0.0</td>\n      <td>0.000000</td>\n      <td>0.000000</td>\n      <td>0.000000</td>\n      <td>0.0</td>\n      <td>0.0</td>\n      <td>0.000000</td>\n      <td>0.0</td>\n      <td>0.000000</td>\n      <td>0.000000</td>\n      <td>0.0</td>\n      <td>0.0</td>\n      <td>0.0</td>\n      <td>0.0</td>\n      <td>0.250000</td>\n      <td>0.000000</td>\n      <td>0.000000</td>\n      <td>0.000000</td>\n      <td>0.25</td>\n      <td>0.0</td>\n      <td>0.0</td>\n      <td>0.0</td>\n    </tr>\n    <tr>\n      <th>3</th>\n      <td>Lawrence Park</td>\n      <td>0.0</td>\n      <td>0.0</td>\n      <td>0.0</td>\n      <td>0.0</td>\n      <td>0.000000</td>\n      <td>0.000000</td>\n      <td>0.0</td>\n      <td>0.333333</td>\n      <td>0.000000</td>\n      <td>0.0</td>\n      <td>0.0</td>\n      <td>0.000000</td>\n      <td>0.0</td>\n      <td>0.000000</td>\n      <td>0.000000</td>\n      <td>0.000000</td>\n      <td>0.0</td>\n      <td>0.000000</td>\n      <td>0.0</td>\n      <td>0.000000</td>\n      <td>0.0</td>\n      <td>0.0</td>\n      <td>0.000000</td>\n      <td>0.000000</td>\n      <td>0.000000</td>\n      <td>0.0</td>\n      <td>0.000000</td>\n      <td>0.000000</td>\n      <td>0.0</td>\n      <td>0.0</td>\n      <td>0.000000</td>\n      <td>0.0</td>\n      <td>0.000000</td>\n      <td>0.000000</td>\n      <td>0.00</td>\n      <td>0.0</td>\n      <td>0.0</td>\n      <td>0.00</td>\n      <td>0.0</td>\n      <td>0.0</td>\n      <td>0.333333</td>\n      <td>0.000000</td>\n      <td>0.000000</td>\n      <td>0.0</td>\n      <td>0.0</td>\n      <td>0.000000</td>\n      <td>0.0</td>\n      <td>0.000000</td>\n      <td>0.000000</td>\n      <td>0.0</td>\n      <td>0.0</td>\n      <td>0.0</td>\n      <td>0.0</td>\n      <td>0.000000</td>\n      <td>0.333333</td>\n      <td>0.000000</td>\n      <td>0.000000</td>\n      <td>0.00</td>\n      <td>0.0</td>\n      <td>0.0</td>\n      <td>0.0</td>\n    </tr>\n    <tr>\n      <th>4</th>\n      <td>Moore Park, Summerhill East</td>\n      <td>0.0</td>\n      <td>0.0</td>\n      <td>0.0</td>\n      <td>0.0</td>\n      <td>0.000000</td>\n      <td>0.000000</td>\n      <td>0.0</td>\n      <td>0.000000</td>\n      <td>0.000000</td>\n      <td>0.0</td>\n      <td>0.0</td>\n      <td>0.000000</td>\n      <td>0.0</td>\n      <td>0.000000</td>\n      <td>0.000000</td>\n      <td>0.000000</td>\n      <td>0.0</td>\n      <td>0.000000</td>\n      <td>0.0</td>\n      <td>0.000000</td>\n      <td>0.0</td>\n      <td>0.0</td>\n      <td>0.000000</td>\n      <td>0.000000</td>\n      <td>0.000000</td>\n      <td>0.0</td>\n      <td>0.500000</td>\n      <td>0.000000</td>\n      <td>0.0</td>\n      <td>0.0</td>\n      <td>0.000000</td>\n      <td>0.0</td>\n      <td>0.000000</td>\n      <td>0.000000</td>\n      <td>0.00</td>\n      <td>0.0</td>\n      <td>0.0</td>\n      <td>0.00</td>\n      <td>0.0</td>\n      <td>0.0</td>\n      <td>0.500000</td>\n      <td>0.000000</td>\n      <td>0.000000</td>\n      <td>0.0</td>\n      <td>0.0</td>\n      <td>0.000000</td>\n      <td>0.0</td>\n      <td>0.000000</td>\n      <td>0.000000</td>\n      <td>0.0</td>\n      <td>0.0</td>\n      <td>0.0</td>\n      <td>0.0</td>\n      <td>0.000000</td>\n      <td>0.000000</td>\n      <td>0.000000</td>\n      <td>0.000000</td>\n      <td>0.00</td>\n      <td>0.0</td>\n      <td>0.0</td>\n      <td>0.0</td>\n    </tr>\n  </tbody>\n</table>\n</div>",
                        "text/plain": "                                      Neighborhood  American Restaurant  \\\n0                                       Davisville                  0.0   \n1                                 Davisville North                  0.0   \n2  Forest Hill North & West, Forest Hill Road Park                  0.0   \n3                                    Lawrence Park                  0.0   \n4                      Moore Park, Summerhill East                  0.0   \n\n   BBQ Joint  Bagel Shop  Bank  Breakfast Spot   Brewery  Burger Joint  \\\n0        0.0         0.0   0.0        0.000000  0.032258           0.0   \n1        0.0         0.0   0.0        0.111111  0.000000           0.0   \n2        0.0         0.0   0.0        0.000000  0.000000           0.0   \n3        0.0         0.0   0.0        0.000000  0.000000           0.0   \n4        0.0         0.0   0.0        0.000000  0.000000           0.0   \n\n   Bus Line      Caf\u00e9  Chinese Restaurant  Clothing Store  Coffee Shop  \\\n0  0.000000  0.064516                 0.0             0.0     0.064516   \n1  0.000000  0.000000                 0.0             0.0     0.000000   \n2  0.000000  0.000000                 0.0             0.0     0.000000   \n3  0.333333  0.000000                 0.0             0.0     0.000000   \n4  0.000000  0.000000                 0.0             0.0     0.000000   \n\n   Convenience Store  Department Store  Dessert Shop     Diner  Donut Shop  \\\n0                0.0          0.000000      0.096774  0.032258         0.0   \n1                0.0          0.111111      0.000000  0.000000         0.0   \n2                0.0          0.000000      0.000000  0.000000         0.0   \n3                0.0          0.000000      0.000000  0.000000         0.0   \n4                0.0          0.000000      0.000000  0.000000         0.0   \n\n   Farmers Market  Fast Food Restaurant  Food & Drink Shop  \\\n0        0.032258                   0.0           0.000000   \n1        0.000000                   0.0           0.111111   \n2        0.000000                   0.0           0.000000   \n3        0.000000                   0.0           0.000000   \n4        0.000000                   0.0           0.000000   \n\n   Fried Chicken Joint  Garden  Gas Station  Gourmet Shop  Greek Restaurant  \\\n0                  0.0     0.0     0.032258      0.032258          0.032258   \n1                  0.0     0.0     0.000000      0.000000          0.000000   \n2                  0.0     0.0     0.000000      0.000000          0.000000   \n3                  0.0     0.0     0.000000      0.000000          0.000000   \n4                  0.0     0.0     0.000000      0.000000          0.000000   \n\n   Grocery Store       Gym  Gym / Fitness Center  History Museum  \\\n0            0.0  0.064516              0.000000             0.0   \n1            0.0  0.111111              0.111111             0.0   \n2            0.0  0.000000              0.000000             0.0   \n3            0.0  0.000000              0.000000             0.0   \n4            0.0  0.500000              0.000000             0.0   \n\n   Home Service     Hotel  Ice Cream Shop  Indian Restaurant  \\\n0           0.0  0.000000             0.0           0.032258   \n1           0.0  0.111111             0.0           0.000000   \n2           0.0  0.000000             0.0           0.000000   \n3           0.0  0.000000             0.0           0.000000   \n4           0.0  0.000000             0.0           0.000000   \n\n   Italian Restaurant  Jewelry Store  Light Rail Station  Liquor Store  \\\n0            0.064516           0.00                 0.0           0.0   \n1            0.000000           0.00                 0.0           0.0   \n2            0.000000           0.25                 0.0           0.0   \n3            0.000000           0.00                 0.0           0.0   \n4            0.000000           0.00                 0.0           0.0   \n\n   Mexican Restaurant  Middle Eastern Restaurant  Miscellaneous Shop  \\\n0                0.00                        0.0                 0.0   \n1                0.00                        0.0                 0.0   \n2                0.25                        0.0                 0.0   \n3                0.00                        0.0                 0.0   \n4                0.00                        0.0                 0.0   \n\n       Park  Pharmacy  Pizza Place  Pub  Rental Car Location  Restaurant  \\\n0  0.032258  0.032258     0.064516  0.0                  0.0    0.032258   \n1  0.111111  0.000000     0.111111  0.0                  0.0    0.000000   \n2  0.000000  0.000000     0.000000  0.0                  0.0    0.000000   \n3  0.333333  0.000000     0.000000  0.0                  0.0    0.000000   \n4  0.500000  0.000000     0.000000  0.0                  0.0    0.000000   \n\n   Salon / Barbershop  Sandwich Place  Seafood Restaurant  Spa  \\\n0                 0.0        0.096774            0.032258  0.0   \n1                 0.0        0.111111            0.000000  0.0   \n2                 0.0        0.000000            0.000000  0.0   \n3                 0.0        0.000000            0.000000  0.0   \n4                 0.0        0.000000            0.000000  0.0   \n\n   Sporting Goods Shop  Sports Bar  Supermarket  Sushi Restaurant  \\\n0                  0.0         0.0          0.0          0.064516   \n1                  0.0         0.0          0.0          0.000000   \n2                  0.0         0.0          0.0          0.250000   \n3                  0.0         0.0          0.0          0.000000   \n4                  0.0         0.0          0.0          0.000000   \n\n   Swim School  Thai Restaurant  Toy / Game Store  Trail  \\\n0     0.000000         0.032258          0.032258   0.00   \n1     0.000000         0.000000          0.000000   0.00   \n2     0.000000         0.000000          0.000000   0.25   \n3     0.333333         0.000000          0.000000   0.00   \n4     0.000000         0.000000          0.000000   0.00   \n\n   Vegetarian / Vegan Restaurant  Vietnamese Restaurant  Yoga Studio  \n0                            0.0                    0.0          0.0  \n1                            0.0                    0.0          0.0  \n2                            0.0                    0.0          0.0  \n3                            0.0                    0.0          0.0  \n4                            0.0                    0.0          0.0  "
                    },
                    "execution_count": 37,
                    "metadata": {},
                    "output_type": "execute_result"
                }
            ],
            "source": "CenToront_grouped = CenToront_onehot.groupby('Neighborhood').mean().reset_index()\nprint('mean values dataframe:')\nCenToront_grouped.head() ##[CenToront_grouped.columns[0:10]]"
        },
        {
            "cell_type": "markdown",
            "metadata": {},
            "source": "__Let's confirm the new size__"
        },
        {
            "cell_type": "code",
            "execution_count": 38,
            "metadata": {
                "jupyter": {
                    "outputs_hidden": false
                },
                "scrolled": false
            },
            "outputs": [
                {
                    "name": "stdout",
                    "output_type": "stream",
                    "text": "New dataframe has 9 rows and 62 columns: \n\n"
                }
            ],
            "source": "## print size of dataframe\ntname=CenToront_grouped.shape\nprint('New dataframe has {} rows and {} columns:'.format(tname[0],tname[1]),'\\n')"
        },
        {
            "cell_type": "markdown",
            "metadata": {},
            "source": "__Let's print each neighborhood along with the top 5 most common venues__"
        },
        {
            "cell_type": "code",
            "execution_count": 39,
            "metadata": {
                "jupyter": {
                    "outputs_hidden": false
                },
                "scrolled": true
            },
            "outputs": [
                {
                    "name": "stdout",
                    "output_type": "stream",
                    "text": "--- Davisville ---\n                venue  freq\n0        Dessert Shop  0.10\n1      Sandwich Place  0.10\n2  Italian Restaurant  0.06\n3                 Gym  0.06\n4                Caf\u00e9  0.06 \n\n--- Davisville North ---\n                  venue  freq\n0                 Hotel  0.11\n1      Department Store  0.11\n2  Gym / Fitness Center  0.11\n3                   Gym  0.11\n4                  Park  0.11 \n\n--- Forest Hill North & West, Forest Hill Road Park ---\n                 venue  freq\n0        Jewelry Store  0.25\n1                Trail  0.25\n2   Mexican Restaurant  0.25\n3     Sushi Restaurant  0.25\n4  American Restaurant  0.00 \n\n--- Lawrence Park ---\n                 venue  freq\n0             Bus Line  0.33\n1          Swim School  0.33\n2                 Park  0.33\n3  American Restaurant  0.00\n4           Restaurant  0.00 \n\n--- Moore Park, Summerhill East ---\n                 venue  freq\n0                  Gym   0.5\n1                 Park   0.5\n2  American Restaurant   0.0\n3           Restaurant   0.0\n4   Italian Restaurant   0.0 \n\n--- North Toronto West, Lawrence Park ---\n                venue  freq\n0      Clothing Store  0.16\n1         Coffee Shop  0.11\n2         Yoga Studio  0.05\n3               Diner  0.05\n4  Mexican Restaurant  0.05 \n\n--- Roselawn ---\n                venue  freq\n0      Ice Cream Shop  0.33\n1        Home Service  0.33\n2              Garden  0.33\n3   Indian Restaurant  0.00\n4  Italian Restaurant  0.00 \n\n--- Summerhill West, Rathnelly, South Hill, Forest Hill SE, Deer Park ---\n                 venue  freq\n0                  Pub  0.12\n1   Light Rail Station  0.12\n2          Coffee Shop  0.12\n3  American Restaurant  0.06\n4  Fried Chicken Joint  0.06 \n\n--- The Annex, North Midtown, Yorkville ---\n            venue  freq\n0  Sandwich Place  0.14\n1            Caf\u00e9  0.14\n2     Coffee Shop  0.09\n3    Liquor Store  0.05\n4             Pub  0.05 \n\n"
                }
            ],
            "source": "## No of top venues to be printed \nnum_top_venues = 5\n## or loop to evalute and print each neighborhood\nfor hood in CenToront_grouped['Neighborhood']:\n    print('---',hood,'---')\n    temp = CenToront_grouped[CenToront_grouped['Neighborhood'] == hood].T.reset_index()\n    temp.columns = ['venue','freq']\n    temp = temp.iloc[1:]\n    temp['freq'] = temp['freq'].astype(float)\n    temp = temp.round({'freq': 2})\n    print(temp.sort_values('freq', ascending=False).reset_index(drop=True).head(num_top_venues),'\\n')"
        },
        {
            "cell_type": "markdown",
            "metadata": {},
            "source": "__Let's put that into a *pandas* dataframe__   \nFirst, let's write a function to sort the venues in descending order.\n<!--  CenToront_grouped.iloc[0, :][1:].sort_values(ascending=False) -->"
        },
        {
            "cell_type": "code",
            "execution_count": 40,
            "metadata": {
                "scrolled": false
            },
            "outputs": [],
            "source": "def return_most_common_venues(row, num_top_venues):\n    row_categories = row.iloc[1:]\n    row_categories_sorted = row_categories.sort_values(ascending=False)\n    \n    return row_categories_sorted.index.values[0:num_top_venues]"
        },
        {
            "cell_type": "markdown",
            "metadata": {},
            "source": "__Now let's create the new dataframe and display the top 10 venues for each neighborhood.__"
        },
        {
            "cell_type": "code",
            "execution_count": 41,
            "metadata": {
                "jupyter": {
                    "outputs_hidden": false
                },
                "scrolled": false
            },
            "outputs": [
                {
                    "name": "stdout",
                    "output_type": "stream",
                    "text": "New dataframe has 9 Neighborhoods and top 10 Venues listed for each: \n\n"
                },
                {
                    "data": {
                        "text/html": "<div>\n<style scoped>\n    .dataframe tbody tr th:only-of-type {\n        vertical-align: middle;\n    }\n\n    .dataframe tbody tr th {\n        vertical-align: top;\n    }\n\n    .dataframe thead th {\n        text-align: right;\n    }\n</style>\n<table border=\"1\" class=\"dataframe\">\n  <thead>\n    <tr style=\"text-align: right;\">\n      <th></th>\n      <th>Neighborhood</th>\n      <th>1st Most Common Venue</th>\n      <th>2nd Most Common Venue</th>\n      <th>3rd Most Common Venue</th>\n      <th>4th Most Common Venue</th>\n      <th>5th Most Common Venue</th>\n      <th>6th Most Common Venue</th>\n      <th>7th Most Common Venue</th>\n      <th>8th Most Common Venue</th>\n      <th>9th Most Common Venue</th>\n      <th>10th Most Common Venue</th>\n    </tr>\n  </thead>\n  <tbody>\n    <tr>\n      <th>0</th>\n      <td>Davisville</td>\n      <td>Dessert Shop</td>\n      <td>Sandwich Place</td>\n      <td>Pizza Place</td>\n      <td>Gym</td>\n      <td>Italian Restaurant</td>\n      <td>Sushi Restaurant</td>\n      <td>Coffee Shop</td>\n      <td>Caf\u00e9</td>\n      <td>Gourmet Shop</td>\n      <td>Gas Station</td>\n    </tr>\n    <tr>\n      <th>1</th>\n      <td>Davisville North</td>\n      <td>Hotel</td>\n      <td>Sandwich Place</td>\n      <td>Gym</td>\n      <td>Food &amp; Drink Shop</td>\n      <td>Park</td>\n      <td>Pizza Place</td>\n      <td>Department Store</td>\n      <td>Gym / Fitness Center</td>\n      <td>Breakfast Spot</td>\n      <td>Bus Line</td>\n    </tr>\n    <tr>\n      <th>2</th>\n      <td>Forest Hill North &amp; West, Forest Hill Road Park</td>\n      <td>Jewelry Store</td>\n      <td>Trail</td>\n      <td>Sushi Restaurant</td>\n      <td>Mexican Restaurant</td>\n      <td>Fried Chicken Joint</td>\n      <td>Donut Shop</td>\n      <td>Farmers Market</td>\n      <td>Fast Food Restaurant</td>\n      <td>Food &amp; Drink Shop</td>\n      <td>Yoga Studio</td>\n    </tr>\n    <tr>\n      <th>3</th>\n      <td>Lawrence Park</td>\n      <td>Swim School</td>\n      <td>Bus Line</td>\n      <td>Park</td>\n      <td>Yoga Studio</td>\n      <td>Diner</td>\n      <td>Gym</td>\n      <td>Grocery Store</td>\n      <td>Greek Restaurant</td>\n      <td>Gourmet Shop</td>\n      <td>Gas Station</td>\n    </tr>\n    <tr>\n      <th>4</th>\n      <td>Moore Park, Summerhill East</td>\n      <td>Gym</td>\n      <td>Park</td>\n      <td>Yoga Studio</td>\n      <td>Diner</td>\n      <td>Gym / Fitness Center</td>\n      <td>Grocery Store</td>\n      <td>Greek Restaurant</td>\n      <td>Gourmet Shop</td>\n      <td>Gas Station</td>\n      <td>Garden</td>\n    </tr>\n  </tbody>\n</table>\n</div>",
                        "text/plain": "                                      Neighborhood 1st Most Common Venue  \\\n0                                       Davisville          Dessert Shop   \n1                                 Davisville North                 Hotel   \n2  Forest Hill North & West, Forest Hill Road Park         Jewelry Store   \n3                                    Lawrence Park           Swim School   \n4                      Moore Park, Summerhill East                   Gym   \n\n  2nd Most Common Venue 3rd Most Common Venue 4th Most Common Venue  \\\n0        Sandwich Place           Pizza Place                   Gym   \n1        Sandwich Place                   Gym     Food & Drink Shop   \n2                 Trail      Sushi Restaurant    Mexican Restaurant   \n3              Bus Line                  Park           Yoga Studio   \n4                  Park           Yoga Studio                 Diner   \n\n  5th Most Common Venue 6th Most Common Venue 7th Most Common Venue  \\\n0    Italian Restaurant      Sushi Restaurant           Coffee Shop   \n1                  Park           Pizza Place      Department Store   \n2   Fried Chicken Joint            Donut Shop        Farmers Market   \n3                 Diner                   Gym         Grocery Store   \n4  Gym / Fitness Center         Grocery Store      Greek Restaurant   \n\n  8th Most Common Venue 9th Most Common Venue 10th Most Common Venue  \n0                  Caf\u00e9          Gourmet Shop            Gas Station  \n1  Gym / Fitness Center        Breakfast Spot               Bus Line  \n2  Fast Food Restaurant     Food & Drink Shop            Yoga Studio  \n3      Greek Restaurant          Gourmet Shop            Gas Station  \n4          Gourmet Shop           Gas Station                 Garden  "
                    },
                    "execution_count": 41,
                    "metadata": {},
                    "output_type": "execute_result"
                }
            ],
            "source": "num_top_venues = 10\nindicators = ['st', 'nd', 'rd']\n\n# create columns according to number of top venues\ncolumns = ['Neighborhood']\nfor ind in np.arange(num_top_venues):\n    try:\n        columns.append('{}{} Most Common Venue'.format(ind+1, indicators[ind]))\n    except:\n        columns.append('{}th Most Common Venue'.format(ind+1))\n\n# create a new dataframe\nneighborhoods_venues_sorted = pd.DataFrame(columns=columns)\nneighborhoods_venues_sorted['Neighborhood'] = CenToront_grouped['Neighborhood']\n\nfor ind in np.arange(CenToront_grouped.shape[0]):\n    neighborhoods_venues_sorted.iloc[ind, 1:] = return_most_common_venues(CenToront_grouped.iloc[ind, :], num_top_venues)\n    ## **_sorted.iloc[ind, 1:] = **_grouped.apply(lambda x : x[1:].sort_values(ascending=False).index.values[0:num_top_venues], axis=1)[ind]\n    \n# print dataframe\nprint('New dataframe has {} Neighborhoods and top {} Venues listed for each:'.format(neighborhoods_venues_sorted.shape[0]\n                                                                                     ,neighborhoods_venues_sorted.shape[1]-1),'\\n')\nneighborhoods_venues_sorted.head()"
        },
        {
            "cell_type": "markdown",
            "metadata": {},
            "source": "### 4. Cluster Neighborhoods\n<hr style=\"height:1px;border-width:0;color:white;background-color:brown\">"
        },
        {
            "cell_type": "markdown",
            "metadata": {},
            "source": "<li Style='font-size:110%;color:brown'> \n    Let's run <em>k</em>-means to cluster the neighborhood into 4 clusters. </li>"
        },
        {
            "cell_type": "code",
            "execution_count": 42,
            "metadata": {
                "jupyter": {
                    "outputs_hidden": false
                },
                "scrolled": false
            },
            "outputs": [
                {
                    "name": "stdout",
                    "output_type": "stream",
                    "text": "Cluster Labels: [0 0 0 2 1 0 3 0 0]\n"
                }
            ],
            "source": "# set number of clusters\nkclusters = 4\n\nCenToront_grouped_clustering = CenToront_grouped.drop('Neighborhood', 1)\n\n# run k-means clustering\nkmeans = KMeans(n_clusters=kclusters, random_state=0).fit(CenToront_grouped_clustering)\n\n# check cluster labels generated for each row in the dataframe\nprint('Cluster Labels:',kmeans.labels_[0:])"
        },
        {
            "cell_type": "code",
            "execution_count": 43,
            "metadata": {
                "scrolled": false
            },
            "outputs": [
                {
                    "name": "stdout",
                    "output_type": "stream",
                    "text": "Cluster dataframe output:\n"
                },
                {
                    "data": {
                        "text/html": "<div>\n<style scoped>\n    .dataframe tbody tr th:only-of-type {\n        vertical-align: middle;\n    }\n\n    .dataframe tbody tr th {\n        vertical-align: top;\n    }\n\n    .dataframe thead th {\n        text-align: right;\n    }\n</style>\n<table border=\"1\" class=\"dataframe\">\n  <thead>\n    <tr style=\"text-align: right;\">\n      <th></th>\n      <th>American Restaurant</th>\n      <th>BBQ Joint</th>\n      <th>Bagel Shop</th>\n      <th>Bank</th>\n      <th>Breakfast Spot</th>\n      <th>Brewery</th>\n      <th>Burger Joint</th>\n      <th>Bus Line</th>\n      <th>Caf\u00e9</th>\n      <th>Chinese Restaurant</th>\n      <th>Clothing Store</th>\n      <th>Coffee Shop</th>\n      <th>Convenience Store</th>\n      <th>Department Store</th>\n      <th>Dessert Shop</th>\n      <th>Diner</th>\n      <th>Donut Shop</th>\n      <th>Farmers Market</th>\n      <th>Fast Food Restaurant</th>\n      <th>Food &amp; Drink Shop</th>\n      <th>Fried Chicken Joint</th>\n      <th>Garden</th>\n      <th>Gas Station</th>\n      <th>Gourmet Shop</th>\n      <th>Greek Restaurant</th>\n      <th>Grocery Store</th>\n      <th>Gym</th>\n      <th>Gym / Fitness Center</th>\n      <th>History Museum</th>\n      <th>Home Service</th>\n      <th>Hotel</th>\n      <th>Ice Cream Shop</th>\n      <th>Indian Restaurant</th>\n      <th>Italian Restaurant</th>\n      <th>Jewelry Store</th>\n      <th>Light Rail Station</th>\n      <th>Liquor Store</th>\n      <th>Mexican Restaurant</th>\n      <th>Middle Eastern Restaurant</th>\n      <th>Miscellaneous Shop</th>\n      <th>Park</th>\n      <th>Pharmacy</th>\n      <th>Pizza Place</th>\n      <th>Pub</th>\n      <th>Rental Car Location</th>\n      <th>Restaurant</th>\n      <th>Salon / Barbershop</th>\n      <th>Sandwich Place</th>\n      <th>Seafood Restaurant</th>\n      <th>Spa</th>\n      <th>Sporting Goods Shop</th>\n      <th>Sports Bar</th>\n      <th>Supermarket</th>\n      <th>Sushi Restaurant</th>\n      <th>Swim School</th>\n      <th>Thai Restaurant</th>\n      <th>Toy / Game Store</th>\n      <th>Trail</th>\n      <th>Vegetarian / Vegan Restaurant</th>\n      <th>Vietnamese Restaurant</th>\n      <th>Yoga Studio</th>\n    </tr>\n  </thead>\n  <tbody>\n    <tr>\n      <th>0</th>\n      <td>0.0</td>\n      <td>0.0</td>\n      <td>0.0</td>\n      <td>0.0</td>\n      <td>0.000000</td>\n      <td>0.032258</td>\n      <td>0.0</td>\n      <td>0.000000</td>\n      <td>0.064516</td>\n      <td>0.0</td>\n      <td>0.0</td>\n      <td>0.064516</td>\n      <td>0.0</td>\n      <td>0.000000</td>\n      <td>0.096774</td>\n      <td>0.032258</td>\n      <td>0.0</td>\n      <td>0.032258</td>\n      <td>0.0</td>\n      <td>0.000000</td>\n      <td>0.0</td>\n      <td>0.0</td>\n      <td>0.032258</td>\n      <td>0.032258</td>\n      <td>0.032258</td>\n      <td>0.0</td>\n      <td>0.064516</td>\n      <td>0.000000</td>\n      <td>0.0</td>\n      <td>0.0</td>\n      <td>0.000000</td>\n      <td>0.0</td>\n      <td>0.032258</td>\n      <td>0.064516</td>\n      <td>0.00</td>\n      <td>0.0</td>\n      <td>0.0</td>\n      <td>0.00</td>\n      <td>0.0</td>\n      <td>0.0</td>\n      <td>0.032258</td>\n      <td>0.032258</td>\n      <td>0.064516</td>\n      <td>0.0</td>\n      <td>0.0</td>\n      <td>0.032258</td>\n      <td>0.0</td>\n      <td>0.096774</td>\n      <td>0.032258</td>\n      <td>0.0</td>\n      <td>0.0</td>\n      <td>0.0</td>\n      <td>0.0</td>\n      <td>0.064516</td>\n      <td>0.000000</td>\n      <td>0.032258</td>\n      <td>0.032258</td>\n      <td>0.00</td>\n      <td>0.0</td>\n      <td>0.0</td>\n      <td>0.0</td>\n    </tr>\n    <tr>\n      <th>1</th>\n      <td>0.0</td>\n      <td>0.0</td>\n      <td>0.0</td>\n      <td>0.0</td>\n      <td>0.111111</td>\n      <td>0.000000</td>\n      <td>0.0</td>\n      <td>0.000000</td>\n      <td>0.000000</td>\n      <td>0.0</td>\n      <td>0.0</td>\n      <td>0.000000</td>\n      <td>0.0</td>\n      <td>0.111111</td>\n      <td>0.000000</td>\n      <td>0.000000</td>\n      <td>0.0</td>\n      <td>0.000000</td>\n      <td>0.0</td>\n      <td>0.111111</td>\n      <td>0.0</td>\n      <td>0.0</td>\n      <td>0.000000</td>\n      <td>0.000000</td>\n      <td>0.000000</td>\n      <td>0.0</td>\n      <td>0.111111</td>\n      <td>0.111111</td>\n      <td>0.0</td>\n      <td>0.0</td>\n      <td>0.111111</td>\n      <td>0.0</td>\n      <td>0.000000</td>\n      <td>0.000000</td>\n      <td>0.00</td>\n      <td>0.0</td>\n      <td>0.0</td>\n      <td>0.00</td>\n      <td>0.0</td>\n      <td>0.0</td>\n      <td>0.111111</td>\n      <td>0.000000</td>\n      <td>0.111111</td>\n      <td>0.0</td>\n      <td>0.0</td>\n      <td>0.000000</td>\n      <td>0.0</td>\n      <td>0.111111</td>\n      <td>0.000000</td>\n      <td>0.0</td>\n      <td>0.0</td>\n      <td>0.0</td>\n      <td>0.0</td>\n      <td>0.000000</td>\n      <td>0.000000</td>\n      <td>0.000000</td>\n      <td>0.000000</td>\n      <td>0.00</td>\n      <td>0.0</td>\n      <td>0.0</td>\n      <td>0.0</td>\n    </tr>\n    <tr>\n      <th>2</th>\n      <td>0.0</td>\n      <td>0.0</td>\n      <td>0.0</td>\n      <td>0.0</td>\n      <td>0.000000</td>\n      <td>0.000000</td>\n      <td>0.0</td>\n      <td>0.000000</td>\n      <td>0.000000</td>\n      <td>0.0</td>\n      <td>0.0</td>\n      <td>0.000000</td>\n      <td>0.0</td>\n      <td>0.000000</td>\n      <td>0.000000</td>\n      <td>0.000000</td>\n      <td>0.0</td>\n      <td>0.000000</td>\n      <td>0.0</td>\n      <td>0.000000</td>\n      <td>0.0</td>\n      <td>0.0</td>\n      <td>0.000000</td>\n      <td>0.000000</td>\n      <td>0.000000</td>\n      <td>0.0</td>\n      <td>0.000000</td>\n      <td>0.000000</td>\n      <td>0.0</td>\n      <td>0.0</td>\n      <td>0.000000</td>\n      <td>0.0</td>\n      <td>0.000000</td>\n      <td>0.000000</td>\n      <td>0.25</td>\n      <td>0.0</td>\n      <td>0.0</td>\n      <td>0.25</td>\n      <td>0.0</td>\n      <td>0.0</td>\n      <td>0.000000</td>\n      <td>0.000000</td>\n      <td>0.000000</td>\n      <td>0.0</td>\n      <td>0.0</td>\n      <td>0.000000</td>\n      <td>0.0</td>\n      <td>0.000000</td>\n      <td>0.000000</td>\n      <td>0.0</td>\n      <td>0.0</td>\n      <td>0.0</td>\n      <td>0.0</td>\n      <td>0.250000</td>\n      <td>0.000000</td>\n      <td>0.000000</td>\n      <td>0.000000</td>\n      <td>0.25</td>\n      <td>0.0</td>\n      <td>0.0</td>\n      <td>0.0</td>\n    </tr>\n    <tr>\n      <th>3</th>\n      <td>0.0</td>\n      <td>0.0</td>\n      <td>0.0</td>\n      <td>0.0</td>\n      <td>0.000000</td>\n      <td>0.000000</td>\n      <td>0.0</td>\n      <td>0.333333</td>\n      <td>0.000000</td>\n      <td>0.0</td>\n      <td>0.0</td>\n      <td>0.000000</td>\n      <td>0.0</td>\n      <td>0.000000</td>\n      <td>0.000000</td>\n      <td>0.000000</td>\n      <td>0.0</td>\n      <td>0.000000</td>\n      <td>0.0</td>\n      <td>0.000000</td>\n      <td>0.0</td>\n      <td>0.0</td>\n      <td>0.000000</td>\n      <td>0.000000</td>\n      <td>0.000000</td>\n      <td>0.0</td>\n      <td>0.000000</td>\n      <td>0.000000</td>\n      <td>0.0</td>\n      <td>0.0</td>\n      <td>0.000000</td>\n      <td>0.0</td>\n      <td>0.000000</td>\n      <td>0.000000</td>\n      <td>0.00</td>\n      <td>0.0</td>\n      <td>0.0</td>\n      <td>0.00</td>\n      <td>0.0</td>\n      <td>0.0</td>\n      <td>0.333333</td>\n      <td>0.000000</td>\n      <td>0.000000</td>\n      <td>0.0</td>\n      <td>0.0</td>\n      <td>0.000000</td>\n      <td>0.0</td>\n      <td>0.000000</td>\n      <td>0.000000</td>\n      <td>0.0</td>\n      <td>0.0</td>\n      <td>0.0</td>\n      <td>0.0</td>\n      <td>0.000000</td>\n      <td>0.333333</td>\n      <td>0.000000</td>\n      <td>0.000000</td>\n      <td>0.00</td>\n      <td>0.0</td>\n      <td>0.0</td>\n      <td>0.0</td>\n    </tr>\n    <tr>\n      <th>4</th>\n      <td>0.0</td>\n      <td>0.0</td>\n      <td>0.0</td>\n      <td>0.0</td>\n      <td>0.000000</td>\n      <td>0.000000</td>\n      <td>0.0</td>\n      <td>0.000000</td>\n      <td>0.000000</td>\n      <td>0.0</td>\n      <td>0.0</td>\n      <td>0.000000</td>\n      <td>0.0</td>\n      <td>0.000000</td>\n      <td>0.000000</td>\n      <td>0.000000</td>\n      <td>0.0</td>\n      <td>0.000000</td>\n      <td>0.0</td>\n      <td>0.000000</td>\n      <td>0.0</td>\n      <td>0.0</td>\n      <td>0.000000</td>\n      <td>0.000000</td>\n      <td>0.000000</td>\n      <td>0.0</td>\n      <td>0.500000</td>\n      <td>0.000000</td>\n      <td>0.0</td>\n      <td>0.0</td>\n      <td>0.000000</td>\n      <td>0.0</td>\n      <td>0.000000</td>\n      <td>0.000000</td>\n      <td>0.00</td>\n      <td>0.0</td>\n      <td>0.0</td>\n      <td>0.00</td>\n      <td>0.0</td>\n      <td>0.0</td>\n      <td>0.500000</td>\n      <td>0.000000</td>\n      <td>0.000000</td>\n      <td>0.0</td>\n      <td>0.0</td>\n      <td>0.000000</td>\n      <td>0.0</td>\n      <td>0.000000</td>\n      <td>0.000000</td>\n      <td>0.0</td>\n      <td>0.0</td>\n      <td>0.0</td>\n      <td>0.0</td>\n      <td>0.000000</td>\n      <td>0.000000</td>\n      <td>0.000000</td>\n      <td>0.000000</td>\n      <td>0.00</td>\n      <td>0.0</td>\n      <td>0.0</td>\n      <td>0.0</td>\n    </tr>\n  </tbody>\n</table>\n</div>",
                        "text/plain": "   American Restaurant  BBQ Joint  Bagel Shop  Bank  Breakfast Spot   Brewery  \\\n0                  0.0        0.0         0.0   0.0        0.000000  0.032258   \n1                  0.0        0.0         0.0   0.0        0.111111  0.000000   \n2                  0.0        0.0         0.0   0.0        0.000000  0.000000   \n3                  0.0        0.0         0.0   0.0        0.000000  0.000000   \n4                  0.0        0.0         0.0   0.0        0.000000  0.000000   \n\n   Burger Joint  Bus Line      Caf\u00e9  Chinese Restaurant  Clothing Store  \\\n0           0.0  0.000000  0.064516                 0.0             0.0   \n1           0.0  0.000000  0.000000                 0.0             0.0   \n2           0.0  0.000000  0.000000                 0.0             0.0   \n3           0.0  0.333333  0.000000                 0.0             0.0   \n4           0.0  0.000000  0.000000                 0.0             0.0   \n\n   Coffee Shop  Convenience Store  Department Store  Dessert Shop     Diner  \\\n0     0.064516                0.0          0.000000      0.096774  0.032258   \n1     0.000000                0.0          0.111111      0.000000  0.000000   \n2     0.000000                0.0          0.000000      0.000000  0.000000   \n3     0.000000                0.0          0.000000      0.000000  0.000000   \n4     0.000000                0.0          0.000000      0.000000  0.000000   \n\n   Donut Shop  Farmers Market  Fast Food Restaurant  Food & Drink Shop  \\\n0         0.0        0.032258                   0.0           0.000000   \n1         0.0        0.000000                   0.0           0.111111   \n2         0.0        0.000000                   0.0           0.000000   \n3         0.0        0.000000                   0.0           0.000000   \n4         0.0        0.000000                   0.0           0.000000   \n\n   Fried Chicken Joint  Garden  Gas Station  Gourmet Shop  Greek Restaurant  \\\n0                  0.0     0.0     0.032258      0.032258          0.032258   \n1                  0.0     0.0     0.000000      0.000000          0.000000   \n2                  0.0     0.0     0.000000      0.000000          0.000000   \n3                  0.0     0.0     0.000000      0.000000          0.000000   \n4                  0.0     0.0     0.000000      0.000000          0.000000   \n\n   Grocery Store       Gym  Gym / Fitness Center  History Museum  \\\n0            0.0  0.064516              0.000000             0.0   \n1            0.0  0.111111              0.111111             0.0   \n2            0.0  0.000000              0.000000             0.0   \n3            0.0  0.000000              0.000000             0.0   \n4            0.0  0.500000              0.000000             0.0   \n\n   Home Service     Hotel  Ice Cream Shop  Indian Restaurant  \\\n0           0.0  0.000000             0.0           0.032258   \n1           0.0  0.111111             0.0           0.000000   \n2           0.0  0.000000             0.0           0.000000   \n3           0.0  0.000000             0.0           0.000000   \n4           0.0  0.000000             0.0           0.000000   \n\n   Italian Restaurant  Jewelry Store  Light Rail Station  Liquor Store  \\\n0            0.064516           0.00                 0.0           0.0   \n1            0.000000           0.00                 0.0           0.0   \n2            0.000000           0.25                 0.0           0.0   \n3            0.000000           0.00                 0.0           0.0   \n4            0.000000           0.00                 0.0           0.0   \n\n   Mexican Restaurant  Middle Eastern Restaurant  Miscellaneous Shop  \\\n0                0.00                        0.0                 0.0   \n1                0.00                        0.0                 0.0   \n2                0.25                        0.0                 0.0   \n3                0.00                        0.0                 0.0   \n4                0.00                        0.0                 0.0   \n\n       Park  Pharmacy  Pizza Place  Pub  Rental Car Location  Restaurant  \\\n0  0.032258  0.032258     0.064516  0.0                  0.0    0.032258   \n1  0.111111  0.000000     0.111111  0.0                  0.0    0.000000   \n2  0.000000  0.000000     0.000000  0.0                  0.0    0.000000   \n3  0.333333  0.000000     0.000000  0.0                  0.0    0.000000   \n4  0.500000  0.000000     0.000000  0.0                  0.0    0.000000   \n\n   Salon / Barbershop  Sandwich Place  Seafood Restaurant  Spa  \\\n0                 0.0        0.096774            0.032258  0.0   \n1                 0.0        0.111111            0.000000  0.0   \n2                 0.0        0.000000            0.000000  0.0   \n3                 0.0        0.000000            0.000000  0.0   \n4                 0.0        0.000000            0.000000  0.0   \n\n   Sporting Goods Shop  Sports Bar  Supermarket  Sushi Restaurant  \\\n0                  0.0         0.0          0.0          0.064516   \n1                  0.0         0.0          0.0          0.000000   \n2                  0.0         0.0          0.0          0.250000   \n3                  0.0         0.0          0.0          0.000000   \n4                  0.0         0.0          0.0          0.000000   \n\n   Swim School  Thai Restaurant  Toy / Game Store  Trail  \\\n0     0.000000         0.032258          0.032258   0.00   \n1     0.000000         0.000000          0.000000   0.00   \n2     0.000000         0.000000          0.000000   0.25   \n3     0.333333         0.000000          0.000000   0.00   \n4     0.000000         0.000000          0.000000   0.00   \n\n   Vegetarian / Vegan Restaurant  Vietnamese Restaurant  Yoga Studio  \n0                            0.0                    0.0          0.0  \n1                            0.0                    0.0          0.0  \n2                            0.0                    0.0          0.0  \n3                            0.0                    0.0          0.0  \n4                            0.0                    0.0          0.0  "
                    },
                    "execution_count": 43,
                    "metadata": {},
                    "output_type": "execute_result"
                }
            ],
            "source": "## View cluster p\nprint('Cluster dataframe output:')\nCenToront_grouped_clustering.head()"
        },
        {
            "cell_type": "markdown",
            "metadata": {},
            "source": "<li Style='font-size:110%;color:brown'> \n    Let's create a new dataframe that includes the cluster as well as the top 10 venues for each neighborhood.</li>\n"
        },
        {
            "cell_type": "code",
            "execution_count": 44,
            "metadata": {
                "jupyter": {
                    "outputs_hidden": false
                },
                "scrolled": false
            },
            "outputs": [
                {
                    "name": "stdout",
                    "output_type": "stream",
                    "text": "\nFinal dataframe:\n"
                },
                {
                    "data": {
                        "text/html": "<div>\n<style scoped>\n    .dataframe tbody tr th:only-of-type {\n        vertical-align: middle;\n    }\n\n    .dataframe tbody tr th {\n        vertical-align: top;\n    }\n\n    .dataframe thead th {\n        text-align: right;\n    }\n</style>\n<table border=\"1\" class=\"dataframe\">\n  <thead>\n    <tr style=\"text-align: right;\">\n      <th></th>\n      <th>PostalCode</th>\n      <th>Borough</th>\n      <th>Neighborhood</th>\n      <th>Latitude</th>\n      <th>Longitude</th>\n      <th>Cluster Labels</th>\n      <th>1st Most Common Venue</th>\n      <th>2nd Most Common Venue</th>\n      <th>3rd Most Common Venue</th>\n      <th>4th Most Common Venue</th>\n      <th>5th Most Common Venue</th>\n      <th>6th Most Common Venue</th>\n      <th>7th Most Common Venue</th>\n      <th>8th Most Common Venue</th>\n      <th>9th Most Common Venue</th>\n      <th>10th Most Common Venue</th>\n    </tr>\n  </thead>\n  <tbody>\n    <tr>\n      <th>0</th>\n      <td>M4N</td>\n      <td>Central Toronto</td>\n      <td>Lawrence Park</td>\n      <td>43.728020</td>\n      <td>-79.388790</td>\n      <td>2</td>\n      <td>Swim School</td>\n      <td>Bus Line</td>\n      <td>Park</td>\n      <td>Yoga Studio</td>\n      <td>Diner</td>\n      <td>Gym</td>\n      <td>Grocery Store</td>\n      <td>Greek Restaurant</td>\n      <td>Gourmet Shop</td>\n      <td>Gas Station</td>\n    </tr>\n    <tr>\n      <th>1</th>\n      <td>M5N</td>\n      <td>Central Toronto</td>\n      <td>Roselawn</td>\n      <td>43.711695</td>\n      <td>-79.416936</td>\n      <td>3</td>\n      <td>Ice Cream Shop</td>\n      <td>Garden</td>\n      <td>Home Service</td>\n      <td>Yoga Studio</td>\n      <td>Diner</td>\n      <td>Gym / Fitness Center</td>\n      <td>Gym</td>\n      <td>Grocery Store</td>\n      <td>Greek Restaurant</td>\n      <td>Gourmet Shop</td>\n    </tr>\n    <tr>\n      <th>2</th>\n      <td>M4P</td>\n      <td>Central Toronto</td>\n      <td>Davisville North</td>\n      <td>43.712751</td>\n      <td>-79.390197</td>\n      <td>0</td>\n      <td>Hotel</td>\n      <td>Sandwich Place</td>\n      <td>Gym</td>\n      <td>Food &amp; Drink Shop</td>\n      <td>Park</td>\n      <td>Pizza Place</td>\n      <td>Department Store</td>\n      <td>Gym / Fitness Center</td>\n      <td>Breakfast Spot</td>\n      <td>Bus Line</td>\n    </tr>\n    <tr>\n      <th>3</th>\n      <td>M5P</td>\n      <td>Central Toronto</td>\n      <td>Forest Hill North &amp; West, Forest Hill Road Park</td>\n      <td>43.696948</td>\n      <td>-79.411307</td>\n      <td>0</td>\n      <td>Jewelry Store</td>\n      <td>Trail</td>\n      <td>Sushi Restaurant</td>\n      <td>Mexican Restaurant</td>\n      <td>Fried Chicken Joint</td>\n      <td>Donut Shop</td>\n      <td>Farmers Market</td>\n      <td>Fast Food Restaurant</td>\n      <td>Food &amp; Drink Shop</td>\n      <td>Yoga Studio</td>\n    </tr>\n    <tr>\n      <th>4</th>\n      <td>M4R</td>\n      <td>Central Toronto</td>\n      <td>North Toronto West, Lawrence Park</td>\n      <td>43.715383</td>\n      <td>-79.405678</td>\n      <td>0</td>\n      <td>Clothing Store</td>\n      <td>Coffee Shop</td>\n      <td>Chinese Restaurant</td>\n      <td>Gym / Fitness Center</td>\n      <td>Fast Food Restaurant</td>\n      <td>Diner</td>\n      <td>Mexican Restaurant</td>\n      <td>Miscellaneous Shop</td>\n      <td>Park</td>\n      <td>Rental Car Location</td>\n    </tr>\n  </tbody>\n</table>\n</div>",
                        "text/plain": "  PostalCode          Borough  \\\n0        M4N  Central Toronto   \n1        M5N  Central Toronto   \n2        M4P  Central Toronto   \n3        M5P  Central Toronto   \n4        M4R  Central Toronto   \n\n                                      Neighborhood   Latitude  Longitude  \\\n0                                    Lawrence Park  43.728020 -79.388790   \n1                                         Roselawn  43.711695 -79.416936   \n2                                 Davisville North  43.712751 -79.390197   \n3  Forest Hill North & West, Forest Hill Road Park  43.696948 -79.411307   \n4                North Toronto West, Lawrence Park  43.715383 -79.405678   \n\n   Cluster Labels 1st Most Common Venue 2nd Most Common Venue  \\\n0               2           Swim School              Bus Line   \n1               3        Ice Cream Shop                Garden   \n2               0                 Hotel        Sandwich Place   \n3               0         Jewelry Store                 Trail   \n4               0        Clothing Store           Coffee Shop   \n\n  3rd Most Common Venue 4th Most Common Venue 5th Most Common Venue  \\\n0                  Park           Yoga Studio                 Diner   \n1          Home Service           Yoga Studio                 Diner   \n2                   Gym     Food & Drink Shop                  Park   \n3      Sushi Restaurant    Mexican Restaurant   Fried Chicken Joint   \n4    Chinese Restaurant  Gym / Fitness Center  Fast Food Restaurant   \n\n  6th Most Common Venue 7th Most Common Venue 8th Most Common Venue  \\\n0                   Gym         Grocery Store      Greek Restaurant   \n1  Gym / Fitness Center                   Gym         Grocery Store   \n2           Pizza Place      Department Store  Gym / Fitness Center   \n3            Donut Shop        Farmers Market  Fast Food Restaurant   \n4                 Diner    Mexican Restaurant    Miscellaneous Shop   \n\n  9th Most Common Venue 10th Most Common Venue  \n0          Gourmet Shop            Gas Station  \n1      Greek Restaurant           Gourmet Shop  \n2        Breakfast Spot               Bus Line  \n3     Food & Drink Shop            Yoga Studio  \n4                  Park    Rental Car Location  "
                    },
                    "execution_count": 44,
                    "metadata": {},
                    "output_type": "execute_result"
                }
            ],
            "source": "# Add clustering labels\nneighborhoods_venues_sorted.insert(0, 'Cluster Labels', kmeans.labels_)\n\nCenToront_merged = CentralToronto_df\n\n# merge toronto_grouped with toronto_data to add latitude/longitude for each neighborhood\nCenToront_merged = CenToront_merged.join(neighborhoods_venues_sorted.set_index('Neighborhood'), on='Neighborhood')\n\n## view final output\nprint('\\nFinal dataframe:')\nCenToront_merged.head() # check the last columns of original df!"
        },
        {
            "cell_type": "markdown",
            "metadata": {},
            "source": "<li Style='font-size:110%;color:brown'> Finally,let's visualize the resulting clusters.</li>"
        },
        {
            "cell_type": "code",
            "execution_count": 45,
            "metadata": {
                "jupyter": {
                    "outputs_hidden": false
                },
                "scrolled": false
            },
            "outputs": [],
            "source": "# create map\n#map_clusters = folium.Map(location=[latitude, longitude], zoom_start=11)\nmap_clusters = folium.Map(location=[43.696948,-79.411307], zoom_start=13) # Forest Hill North - Coordinates\n\n# set color scheme for the clusters\nx = np.arange(kclusters)\nys = [i + x + (i*x)**2 for i in range(kclusters)]\ncolors_array = cm.rainbow(np.linspace(0, 1, len(ys)))\n#rainbow = [colors.rgb2hex(i) for i in colors_array] ; print(colors_array,rainbow)\nrainbow = ['#8000ff', '#983D3D','#232066', '#ff0000'] # ['#00b5eb']\n\n# add markers to the map\nmarkers_colors = []\nfor lat, lon, poi, cluster in zip(CenToront_merged['Latitude'], CenToront_merged['Longitude']\n                                  , CenToront_merged['Neighborhood'], CenToront_merged['Cluster Labels']):\n    label = folium.Popup(str(poi) + ' Cluster ' + str(cluster), parse_html=True)\n    folium.CircleMarker(\n        [lat, lon],\n        radius=8,\n        popup=label,\n        color=rainbow[cluster-1],\n        fill=True,\n        fill_color=rainbow[cluster-1],\n        fill_opacity=0.7).add_to(map_clusters)"
        },
        {
            "cell_type": "code",
            "execution_count": 46,
            "metadata": {},
            "outputs": [
                {
                    "data": {
                        "text/html": "<div style=\"width:100%;\"><div style=\"position:relative;width:100%;height:0;padding-bottom:60%;\"><span style=\"color:#565656\">Make this Notebook Trusted to load map: File -> Trust Notebook</span><iframe src=\"about:blank\" style=\"position:absolute;width:100%;height:100%;left:0;top:0;border:none !important;\" data-html=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 onload=\"this.contentDocument.open();this.contentDocument.write(atob(this.getAttribute('data-html')));this.contentDocument.close();\" allowfullscreen webkitallowfullscreen mozallowfullscreen></iframe></div></div>",
                        "text/plain": "<folium.folium.Map at 0x7f9d6ed57828>"
                    },
                    "execution_count": 46,
                    "metadata": {},
                    "output_type": "execute_result"
                }
            ],
            "source": "map_clusters"
        },
        {
            "cell_type": "markdown",
            "metadata": {},
            "source": "<a id='item5'></a>"
        },
        {
            "cell_type": "markdown",
            "metadata": {},
            "source": "### 5. Examine Clusters\n<hr style=\"height:1px;border-width:0;color:white;background-color:brown\">"
        },
        {
            "cell_type": "markdown",
            "metadata": {},
            "source": "<li Style='font-size:110%;color:brown'> \n    Now, we can examine each cluster and determine the discriminating venue categories that distinguish each cluster.</li>"
        },
        {
            "cell_type": "markdown",
            "metadata": {},
            "source": "#### Cluster 1"
        },
        {
            "cell_type": "code",
            "execution_count": 47,
            "metadata": {
                "jupyter": {
                    "outputs_hidden": false
                },
                "scrolled": false
            },
            "outputs": [
                {
                    "data": {
                        "text/html": "<div>\n<style scoped>\n    .dataframe tbody tr th:only-of-type {\n        vertical-align: middle;\n    }\n\n    .dataframe tbody tr th {\n        vertical-align: top;\n    }\n\n    .dataframe thead th {\n        text-align: right;\n    }\n</style>\n<table border=\"1\" class=\"dataframe\">\n  <thead>\n    <tr style=\"text-align: right;\">\n      <th></th>\n      <th>Neighborhood</th>\n      <th>1st Most Common Venue</th>\n      <th>2nd Most Common Venue</th>\n      <th>3rd Most Common Venue</th>\n      <th>4th Most Common Venue</th>\n      <th>5th Most Common Venue</th>\n      <th>6th Most Common Venue</th>\n      <th>7th Most Common Venue</th>\n      <th>8th Most Common Venue</th>\n      <th>9th Most Common Venue</th>\n      <th>10th Most Common Venue</th>\n    </tr>\n  </thead>\n  <tbody>\n    <tr>\n      <th>2</th>\n      <td>Davisville North</td>\n      <td>Hotel</td>\n      <td>Sandwich Place</td>\n      <td>Gym</td>\n      <td>Food &amp; Drink Shop</td>\n      <td>Park</td>\n      <td>Pizza Place</td>\n      <td>Department Store</td>\n      <td>Gym / Fitness Center</td>\n      <td>Breakfast Spot</td>\n      <td>Bus Line</td>\n    </tr>\n    <tr>\n      <th>3</th>\n      <td>Forest Hill North &amp; West, Forest Hill Road Park</td>\n      <td>Jewelry Store</td>\n      <td>Trail</td>\n      <td>Sushi Restaurant</td>\n      <td>Mexican Restaurant</td>\n      <td>Fried Chicken Joint</td>\n      <td>Donut Shop</td>\n      <td>Farmers Market</td>\n      <td>Fast Food Restaurant</td>\n      <td>Food &amp; Drink Shop</td>\n      <td>Yoga Studio</td>\n    </tr>\n    <tr>\n      <th>4</th>\n      <td>North Toronto West, Lawrence Park</td>\n      <td>Clothing Store</td>\n      <td>Coffee Shop</td>\n      <td>Chinese Restaurant</td>\n      <td>Gym / Fitness Center</td>\n      <td>Fast Food Restaurant</td>\n      <td>Diner</td>\n      <td>Mexican Restaurant</td>\n      <td>Miscellaneous Shop</td>\n      <td>Park</td>\n      <td>Rental Car Location</td>\n    </tr>\n    <tr>\n      <th>5</th>\n      <td>The Annex, North Midtown, Yorkville</td>\n      <td>Sandwich Place</td>\n      <td>Caf\u00e9</td>\n      <td>Coffee Shop</td>\n      <td>Pizza Place</td>\n      <td>History Museum</td>\n      <td>Indian Restaurant</td>\n      <td>Donut Shop</td>\n      <td>Liquor Store</td>\n      <td>Middle Eastern Restaurant</td>\n      <td>Park</td>\n    </tr>\n    <tr>\n      <th>6</th>\n      <td>Davisville</td>\n      <td>Dessert Shop</td>\n      <td>Sandwich Place</td>\n      <td>Pizza Place</td>\n      <td>Gym</td>\n      <td>Italian Restaurant</td>\n      <td>Sushi Restaurant</td>\n      <td>Coffee Shop</td>\n      <td>Caf\u00e9</td>\n      <td>Gourmet Shop</td>\n      <td>Gas Station</td>\n    </tr>\n    <tr>\n      <th>8</th>\n      <td>Summerhill West, Rathnelly, South Hill, Forest...</td>\n      <td>Pub</td>\n      <td>Light Rail Station</td>\n      <td>Coffee Shop</td>\n      <td>Sports Bar</td>\n      <td>Vietnamese Restaurant</td>\n      <td>Fried Chicken Joint</td>\n      <td>Liquor Store</td>\n      <td>Pizza Place</td>\n      <td>Restaurant</td>\n      <td>American Restaurant</td>\n    </tr>\n  </tbody>\n</table>\n</div>",
                        "text/plain": "                                        Neighborhood 1st Most Common Venue  \\\n2                                   Davisville North                 Hotel   \n3    Forest Hill North & West, Forest Hill Road Park         Jewelry Store   \n4                  North Toronto West, Lawrence Park        Clothing Store   \n5                The Annex, North Midtown, Yorkville        Sandwich Place   \n6                                         Davisville          Dessert Shop   \n8  Summerhill West, Rathnelly, South Hill, Forest...                   Pub   \n\n  2nd Most Common Venue 3rd Most Common Venue 4th Most Common Venue  \\\n2        Sandwich Place                   Gym     Food & Drink Shop   \n3                 Trail      Sushi Restaurant    Mexican Restaurant   \n4           Coffee Shop    Chinese Restaurant  Gym / Fitness Center   \n5                  Caf\u00e9           Coffee Shop           Pizza Place   \n6        Sandwich Place           Pizza Place                   Gym   \n8    Light Rail Station           Coffee Shop            Sports Bar   \n\n   5th Most Common Venue 6th Most Common Venue 7th Most Common Venue  \\\n2                   Park           Pizza Place      Department Store   \n3    Fried Chicken Joint            Donut Shop        Farmers Market   \n4   Fast Food Restaurant                 Diner    Mexican Restaurant   \n5         History Museum     Indian Restaurant            Donut Shop   \n6     Italian Restaurant      Sushi Restaurant           Coffee Shop   \n8  Vietnamese Restaurant   Fried Chicken Joint          Liquor Store   \n\n  8th Most Common Venue      9th Most Common Venue 10th Most Common Venue  \n2  Gym / Fitness Center             Breakfast Spot               Bus Line  \n3  Fast Food Restaurant          Food & Drink Shop            Yoga Studio  \n4    Miscellaneous Shop                       Park    Rental Car Location  \n5          Liquor Store  Middle Eastern Restaurant                   Park  \n6                  Caf\u00e9               Gourmet Shop            Gas Station  \n8           Pizza Place                 Restaurant    American Restaurant  "
                    },
                    "execution_count": 47,
                    "metadata": {},
                    "output_type": "execute_result"
                }
            ],
            "source": "CenToront_merged.loc[CenToront_merged['Cluster Labels'] == 0, CenToront_merged.columns[[2] + list(range(6, CenToront_merged.shape[1]))]]"
        },
        {
            "cell_type": "markdown",
            "metadata": {},
            "source": "#### Cluster 2"
        },
        {
            "cell_type": "code",
            "execution_count": 48,
            "metadata": {
                "jupyter": {
                    "outputs_hidden": false
                },
                "scrolled": false
            },
            "outputs": [
                {
                    "data": {
                        "text/html": "<div>\n<style scoped>\n    .dataframe tbody tr th:only-of-type {\n        vertical-align: middle;\n    }\n\n    .dataframe tbody tr th {\n        vertical-align: top;\n    }\n\n    .dataframe thead th {\n        text-align: right;\n    }\n</style>\n<table border=\"1\" class=\"dataframe\">\n  <thead>\n    <tr style=\"text-align: right;\">\n      <th></th>\n      <th>Neighborhood</th>\n      <th>1st Most Common Venue</th>\n      <th>2nd Most Common Venue</th>\n      <th>3rd Most Common Venue</th>\n      <th>4th Most Common Venue</th>\n      <th>5th Most Common Venue</th>\n      <th>6th Most Common Venue</th>\n      <th>7th Most Common Venue</th>\n      <th>8th Most Common Venue</th>\n      <th>9th Most Common Venue</th>\n      <th>10th Most Common Venue</th>\n    </tr>\n  </thead>\n  <tbody>\n    <tr>\n      <th>7</th>\n      <td>Moore Park, Summerhill East</td>\n      <td>Gym</td>\n      <td>Park</td>\n      <td>Yoga Studio</td>\n      <td>Diner</td>\n      <td>Gym / Fitness Center</td>\n      <td>Grocery Store</td>\n      <td>Greek Restaurant</td>\n      <td>Gourmet Shop</td>\n      <td>Gas Station</td>\n      <td>Garden</td>\n    </tr>\n  </tbody>\n</table>\n</div>",
                        "text/plain": "                  Neighborhood 1st Most Common Venue 2nd Most Common Venue  \\\n7  Moore Park, Summerhill East                   Gym                  Park   \n\n  3rd Most Common Venue 4th Most Common Venue 5th Most Common Venue  \\\n7           Yoga Studio                 Diner  Gym / Fitness Center   \n\n  6th Most Common Venue 7th Most Common Venue 8th Most Common Venue  \\\n7         Grocery Store      Greek Restaurant          Gourmet Shop   \n\n  9th Most Common Venue 10th Most Common Venue  \n7           Gas Station                 Garden  "
                    },
                    "execution_count": 48,
                    "metadata": {},
                    "output_type": "execute_result"
                }
            ],
            "source": "CenToront_merged.loc[CenToront_merged['Cluster Labels'] == 1, CenToront_merged.columns[[2] + list(range(6, CenToront_merged.shape[1]))]]"
        },
        {
            "cell_type": "markdown",
            "metadata": {},
            "source": "#### Cluster 3"
        },
        {
            "cell_type": "code",
            "execution_count": 49,
            "metadata": {
                "jupyter": {
                    "outputs_hidden": false
                },
                "scrolled": false
            },
            "outputs": [
                {
                    "data": {
                        "text/html": "<div>\n<style scoped>\n    .dataframe tbody tr th:only-of-type {\n        vertical-align: middle;\n    }\n\n    .dataframe tbody tr th {\n        vertical-align: top;\n    }\n\n    .dataframe thead th {\n        text-align: right;\n    }\n</style>\n<table border=\"1\" class=\"dataframe\">\n  <thead>\n    <tr style=\"text-align: right;\">\n      <th></th>\n      <th>Neighborhood</th>\n      <th>1st Most Common Venue</th>\n      <th>2nd Most Common Venue</th>\n      <th>3rd Most Common Venue</th>\n      <th>4th Most Common Venue</th>\n      <th>5th Most Common Venue</th>\n      <th>6th Most Common Venue</th>\n      <th>7th Most Common Venue</th>\n      <th>8th Most Common Venue</th>\n      <th>9th Most Common Venue</th>\n      <th>10th Most Common Venue</th>\n    </tr>\n  </thead>\n  <tbody>\n    <tr>\n      <th>0</th>\n      <td>Lawrence Park</td>\n      <td>Swim School</td>\n      <td>Bus Line</td>\n      <td>Park</td>\n      <td>Yoga Studio</td>\n      <td>Diner</td>\n      <td>Gym</td>\n      <td>Grocery Store</td>\n      <td>Greek Restaurant</td>\n      <td>Gourmet Shop</td>\n      <td>Gas Station</td>\n    </tr>\n  </tbody>\n</table>\n</div>",
                        "text/plain": "    Neighborhood 1st Most Common Venue 2nd Most Common Venue  \\\n0  Lawrence Park           Swim School              Bus Line   \n\n  3rd Most Common Venue 4th Most Common Venue 5th Most Common Venue  \\\n0                  Park           Yoga Studio                 Diner   \n\n  6th Most Common Venue 7th Most Common Venue 8th Most Common Venue  \\\n0                   Gym         Grocery Store      Greek Restaurant   \n\n  9th Most Common Venue 10th Most Common Venue  \n0          Gourmet Shop            Gas Station  "
                    },
                    "execution_count": 49,
                    "metadata": {},
                    "output_type": "execute_result"
                }
            ],
            "source": "CenToront_merged.loc[CenToront_merged['Cluster Labels'] == 2, CenToront_merged.columns[[2] + list(range(6, CenToront_merged.shape[1]))]]"
        },
        {
            "cell_type": "markdown",
            "metadata": {},
            "source": "#### Cluster 4"
        },
        {
            "cell_type": "code",
            "execution_count": 50,
            "metadata": {
                "jupyter": {
                    "outputs_hidden": false
                },
                "scrolled": false
            },
            "outputs": [
                {
                    "data": {
                        "text/html": "<div>\n<style scoped>\n    .dataframe tbody tr th:only-of-type {\n        vertical-align: middle;\n    }\n\n    .dataframe tbody tr th {\n        vertical-align: top;\n    }\n\n    .dataframe thead th {\n        text-align: right;\n    }\n</style>\n<table border=\"1\" class=\"dataframe\">\n  <thead>\n    <tr style=\"text-align: right;\">\n      <th></th>\n      <th>Neighborhood</th>\n      <th>1st Most Common Venue</th>\n      <th>2nd Most Common Venue</th>\n      <th>3rd Most Common Venue</th>\n      <th>4th Most Common Venue</th>\n      <th>5th Most Common Venue</th>\n      <th>6th Most Common Venue</th>\n      <th>7th Most Common Venue</th>\n      <th>8th Most Common Venue</th>\n      <th>9th Most Common Venue</th>\n      <th>10th Most Common Venue</th>\n    </tr>\n  </thead>\n  <tbody>\n    <tr>\n      <th>1</th>\n      <td>Roselawn</td>\n      <td>Ice Cream Shop</td>\n      <td>Garden</td>\n      <td>Home Service</td>\n      <td>Yoga Studio</td>\n      <td>Diner</td>\n      <td>Gym / Fitness Center</td>\n      <td>Gym</td>\n      <td>Grocery Store</td>\n      <td>Greek Restaurant</td>\n      <td>Gourmet Shop</td>\n    </tr>\n  </tbody>\n</table>\n</div>",
                        "text/plain": "  Neighborhood 1st Most Common Venue 2nd Most Common Venue  \\\n1     Roselawn        Ice Cream Shop                Garden   \n\n  3rd Most Common Venue 4th Most Common Venue 5th Most Common Venue  \\\n1          Home Service           Yoga Studio                 Diner   \n\n  6th Most Common Venue 7th Most Common Venue 8th Most Common Venue  \\\n1  Gym / Fitness Center                   Gym         Grocery Store   \n\n  9th Most Common Venue 10th Most Common Venue  \n1      Greek Restaurant           Gourmet Shop  "
                    },
                    "execution_count": 50,
                    "metadata": {},
                    "output_type": "execute_result"
                }
            ],
            "source": "CenToront_merged.loc[CenToront_merged['Cluster Labels'] == 3, CenToront_merged.columns[[2] + list(range(6, CenToront_merged.shape[1]))]]"
        },
        {
            "cell_type": "markdown",
            "metadata": {},
            "source": "__Note: To analyze cluster and its distinguish venue categories, below I have printed Venues for Neighborhoods in cluster.__"
        },
        {
            "cell_type": "code",
            "execution_count": 51,
            "metadata": {
                "scrolled": false
            },
            "outputs": [
                {
                    "name": "stdout",
                    "output_type": "stream",
                    "text": "\nVenues in cluster: 4\n"
                },
                {
                    "data": {
                        "text/html": "<div>\n<style scoped>\n    .dataframe tbody tr th:only-of-type {\n        vertical-align: middle;\n    }\n\n    .dataframe tbody tr th {\n        vertical-align: top;\n    }\n\n    .dataframe thead th {\n        text-align: right;\n    }\n</style>\n<table border=\"1\" class=\"dataframe\">\n  <thead>\n    <tr style=\"text-align: right;\">\n      <th></th>\n      <th>Neighborhood</th>\n      <th>Venue</th>\n      <th>Venue Category</th>\n    </tr>\n  </thead>\n  <tbody>\n    <tr>\n      <th>3</th>\n      <td>Roselawn</td>\n      <td>Ceiling Champions</td>\n      <td>Home Service</td>\n    </tr>\n    <tr>\n      <th>4</th>\n      <td>Roselawn</td>\n      <td>Rosalind's Garden Oasis</td>\n      <td>Garden</td>\n    </tr>\n    <tr>\n      <th>5</th>\n      <td>Roselawn</td>\n      <td>Menchie's St. Clair West</td>\n      <td>Ice Cream Shop</td>\n    </tr>\n  </tbody>\n</table>\n</div>",
                        "text/plain": "  Neighborhood                     Venue  Venue Category\n3     Roselawn         Ceiling Champions    Home Service\n4     Roselawn   Rosalind's Garden Oasis          Garden\n5     Roselawn  Menchie's St. Clair West  Ice Cream Shop"
                    },
                    "execution_count": 51,
                    "metadata": {},
                    "output_type": "execute_result"
                }
            ],
            "source": "print('\\nVenues in cluster: 4')\nclust = CenToront_merged[CenToront_merged['Cluster Labels'] == 3]['Neighborhood'].tolist()\nCenToront_venues[CenToront_venues['Neighborhood']==clust[0]][['Neighborhood','Venue','Venue Category']]"
        },
        {
            "cell_type": "markdown",
            "metadata": {},
            "source": "<h6 style='text-align:center'> End of PART III </h6>\n<hr style=\"height:2px;border-width:0;color:white;background-color:grey\">"
        }
    ],
    "metadata": {
        "kernelspec": {
            "display_name": "Python 3.6",
            "language": "python",
            "name": "python3"
        },
        "language_info": {
            "codemirror_mode": {
                "name": "ipython",
                "version": 3
            },
            "file_extension": ".py",
            "mimetype": "text/x-python",
            "name": "python",
            "nbconvert_exporter": "python",
            "pygments_lexer": "ipython3",
            "version": "3.6.9"
        }
    },
    "nbformat": 4,
    "nbformat_minor": 4
}