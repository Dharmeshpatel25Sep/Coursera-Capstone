{
 "cells": [
  {
   "cell_type": "markdown",
   "metadata": {},
   "source": [
    "# My Jupyter Notebook1 on IBM Data Science Experience   "
   ]
  },
  {
   "cell_type": "markdown",
   "metadata": {},
   "source": [
    "**Dharmesh Patel**   \n",
    "Data Solution and Analytics Professional   "
   ]
  },
  {
   "cell_type": "markdown",
   "metadata": {},
   "source": [
    "_I am interested in data science because I have been working with data solutions and bussiness analytics functions of ITES organisations, and want to learn and enhance my data science skills._"
   ]
  },
  {
   "cell_type": "markdown",
   "metadata": {},
   "source": [
    "### Below given code has three variable x,y and z, where value of  variable z is assigned based on addition of x and y., and prints the results with variable values as mathamatical expression.   "
   ]
  },
  {
   "cell_type": "code",
   "execution_count": 2,
   "metadata": {},
   "outputs": [
    {
     "name": "stdout",
     "output_type": "stream",
     "text": [
      "[1] \"Given z = x + y, here x = 2 and y = 3, therefore z = x + y = 2 + 3 = 5 \"\n"
     ]
    }
   ],
   "source": [
    "x <- 2\n",
    "y <- 3\n",
    "z <- x+y\n",
    "print (paste0(\"Given z = x + y, here x = \",x,\" and y = \",y,\", therefore z = x + y = \",x,\" + \",y,\" = \",x+y,\" \"))"
   ]
  },
  {
   "cell_type": "markdown",
   "metadata": {},
   "source": [
    "###### Assignment  - Use Markdowns  \n",
    "Example 1 : Horizontal rule and bulleted list      \n",
    "\n",
    "* Number of Days in current month = 30\n",
    "* Numbere of Public Holidays in current month = 2\n",
    "* Number of Weeklyoffs in current month = 8\n",
    "* Numbere of working days in current month = 20   \n",
    "---\n",
    "Example 2 : Numbered list with Hyperlinks    \n",
    "\n",
    "1. [Click here for Google Homepage](https://www.google.com \"Google Homepage\")    \n",
    "2. [My LinkedIn Profile](https://www.linkedin.com/in/dharmesh-patel-46361134/ \"Dharmesh Patel\")   \n",
    "3. This one is just simple text unlike the above one   \n",
    "   \n",
    "---\n",
    "Example 3 : Images, tables, Code highlighting, strike through  \n",
    "\n",
    "~~Table with Homtown pics~~       `Table with Hometown Images`\n",
    "\n",
    "City   |Location   |Image   \n",
    ":---   |:---       |:---\n",
    "**Baroda** | _Palace_| <img src=https://upload.wikimedia.org/wikipedia/commons/a/a1/Laxmi_Vilas_Palace%2C_Vadodara.jpg width =\"200\">\n",
    "**Baroda** | _Court_ | <img src=https://upload.wikimedia.org/wikipedia/commons/4/4a/NyayM.jpg width =\"200\">\n",
    "**Logo** | _Github_ | ![alt text](https://github.com/adam-p/markdown-here/raw/master/src/common/images/icon48.png \"Logo\")\n",
    "\n",
    "---\n",
    "`Thanks for review - Dpatel`"
   ]
  }
 ],
 "metadata": {
  "kernelspec": {
   "display_name": "R 3.6 with Spark",
   "language": "R",
   "name": "r"
  },
  "language_info": {
   "codemirror_mode": "r",
   "file_extension": ".r",
   "mimetype": "text/x-r-source",
   "name": "R",
   "pygments_lexer": "r",
   "version": "3.6.0"
  }
 },
 "nbformat": 4,
 "nbformat_minor": 1
}
